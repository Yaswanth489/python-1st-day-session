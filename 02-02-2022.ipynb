{
 "cells": [
  {
   "cell_type": "markdown",
   "id": "3fcb31c4",
   "metadata": {},
   "source": [
    "# Day-2 session\n",
    "## 02-02-2022\n"
   ]
  },
  {
   "cell_type": "markdown",
   "id": "edab38aa",
   "metadata": {},
   "source": [
    "### Input and output methods\n",
    "- Reading the data or information from the user---***input()***\n",
    "    - Static input\n",
    "    - Dynamic input\n",
    "- Displaying the information or data to the user---***print()***\n"
   ]
  },
  {
   "cell_type": "code",
   "execution_count": 4,
   "id": "5fafc0aa",
   "metadata": {},
   "outputs": [
    {
     "name": "stdout",
     "output_type": "stream",
     "text": [
      "10\n",
      "50\n"
     ]
    }
   ],
   "source": [
    "a=10\n",
    "b=50\n",
    "print(a)\n",
    "print(b)"
   ]
  },
  {
   "cell_type": "code",
   "execution_count": 3,
   "id": "3a0b9fca",
   "metadata": {},
   "outputs": [
    {
     "name": "stdout",
     "output_type": "stream",
     "text": [
      "Yawanth\n"
     ]
    },
    {
     "data": {
      "text/plain": [
       "'Yawanth'"
      ]
     },
     "execution_count": 3,
     "metadata": {},
     "output_type": "execute_result"
    }
   ],
   "source": [
    "a=input()\n",
    "a"
   ]
  },
  {
   "cell_type": "code",
   "execution_count": 5,
   "id": "6f3641ac",
   "metadata": {},
   "outputs": [
    {
     "name": "stdout",
     "output_type": "stream",
     "text": [
      "345\n"
     ]
    },
    {
     "data": {
      "text/plain": [
       "'345'"
      ]
     },
     "execution_count": 5,
     "metadata": {},
     "output_type": "execute_result"
    }
   ],
   "source": [
    "a=input()\n",
    "a"
   ]
  },
  {
   "cell_type": "code",
   "execution_count": 7,
   "id": "45432099",
   "metadata": {},
   "outputs": [
    {
     "name": "stdout",
     "output_type": "stream",
     "text": [
      "enter user value : Hai welcome\n"
     ]
    },
    {
     "data": {
      "text/plain": [
       "'Hai welcome'"
      ]
     },
     "execution_count": 7,
     "metadata": {},
     "output_type": "execute_result"
    }
   ],
   "source": [
    "a=input(\"enter user value : \")\n",
    "a"
   ]
  },
  {
   "cell_type": "code",
   "execution_count": 1,
   "id": "8a70c9c0",
   "metadata": {},
   "outputs": [
    {
     "name": "stdout",
     "output_type": "stream",
     "text": [
      "enter the value : 345\n"
     ]
    },
    {
     "data": {
      "text/plain": [
       "345.0"
      ]
     },
     "execution_count": 1,
     "metadata": {},
     "output_type": "execute_result"
    }
   ],
   "source": [
    "a=float(input(\"enter the value : \"))\n",
    "a"
   ]
  },
  {
   "cell_type": "code",
   "execution_count": 3,
   "id": "d86721ce",
   "metadata": {},
   "outputs": [
    {
     "name": "stdout",
     "output_type": "stream",
     "text": [
      " enter value : 356\n",
      "356\n"
     ]
    }
   ],
   "source": [
    "a=input(\" enter value : \")\n",
    "print(a)"
   ]
  },
  {
   "cell_type": "code",
   "execution_count": 12,
   "id": "a430f3cb",
   "metadata": {},
   "outputs": [
    {
     "name": "stdout",
     "output_type": "stream",
     "text": [
      "10,20,50%50\n"
     ]
    }
   ],
   "source": [
    "a=10\n",
    "b=20\n",
    "c=50\n",
    "print(a,b,c,sep=\",\",end=\"%\")\n",
    "print(c)"
   ]
  },
  {
   "cell_type": "code",
   "execution_count": 5,
   "id": "9c172375",
   "metadata": {},
   "outputs": [
    {
     "name": "stdout",
     "output_type": "stream",
     "text": [
      "Help on built-in function print in module builtins:\n",
      "\n",
      "print(...)\n",
      "    print(value, ..., sep=' ', end='\\n', file=sys.stdout, flush=False)\n",
      "    \n",
      "    Prints the values to a stream, or to sys.stdout by default.\n",
      "    Optional keyword arguments:\n",
      "    file:  a file-like object (stream); defaults to the current sys.stdout.\n",
      "    sep:   string inserted between values, default a space.\n",
      "    end:   string appended after the last value, default a newline.\n",
      "    flush: whether to forcibly flush the stream.\n",
      "\n"
     ]
    }
   ],
   "source": [
    "help(print)"
   ]
  },
  {
   "cell_type": "code",
   "execution_count": 13,
   "id": "e38866b1",
   "metadata": {},
   "outputs": [
    {
     "name": "stdout",
     "output_type": "stream",
     "text": [
      "10,20,50\n",
      "50\n"
     ]
    }
   ],
   "source": [
    "a=10\n",
    "b=20\n",
    "c=50\n",
    "print(a,b,c,sep=\",\",end=\"\\n\")\n",
    "print(c)"
   ]
  },
  {
   "cell_type": "code",
   "execution_count": 19,
   "id": "c008b271",
   "metadata": {},
   "outputs": [
    {
     "name": "stdout",
     "output_type": "stream",
     "text": [
      "enter a : 30\n",
      "enter b : 60\n",
      "enter c : 90\n",
      "30$ 60$ 90%30 60 90\n"
     ]
    }
   ],
   "source": [
    " # generate three values from user.that values separated with $ and end with %,6 again print three values\n",
    "a=input(\"enter a : \")\n",
    "b=input(\"enter b : \")\n",
    "c=input(\"enter c : \")\n",
    "print(a,b,c,sep=\"$ \",end=\"%\")\n",
    "print(a,b,c,end=\"\\n\")\n",
    "    \n",
    "    \n",
    "    "
   ]
  },
  {
   "cell_type": "markdown",
   "id": "3736cc67",
   "metadata": {},
   "source": [
    "### Operators\n",
    "- Arthimatic operators(+,-,*,**,/,//,%)\n",
    "    - Output for the normal division is quotient.\n",
    "    - Output for the integer division or floor division is integer part of the quotient.\n",
    "    - Output for the modulo division is remainder.\n",
    "- Asignment operators(=)\n",
    "- Comparision operators(>,<,<=,>=,==)\n",
    "- Logical operators(and,or,not)\n",
    "- Bitwise operator(&,|,^)\n",
    "- Identity operators(==),isnot(!=)\n",
    "- Membership operators(in.notin)\n"
   ]
  },
  {
   "cell_type": "markdown",
   "id": "8f1b5cdd",
   "metadata": {},
   "source": [
    "# Arithmatic operators\n"
   ]
  },
  {
   "cell_type": "code",
   "execution_count": 24,
   "id": "1a4c666d",
   "metadata": {},
   "outputs": [
    {
     "name": "stdout",
     "output_type": "stream",
     "text": [
      "addition :  7\n",
      "subtraction :  3\n",
      "multiplication :  10\n",
      "power :  25\n",
      "division :  2.5\n",
      "int division or floor division : 2\n",
      "modulo division :  1\n"
     ]
    }
   ],
   "source": [
    "a=5\n",
    "b=2\n",
    "print(\"addition : \",a+b)\n",
    "print(\"subtraction : \",a-b)\n",
    "print(\"multiplication : \",a*b)\n",
    "print(\"power : \",a**b)\n",
    "print(\"division : \",a/b)\n",
    "print(\"int division or floor division :\",a//b)\n",
    "print(\"modulo division : \",a%b)"
   ]
  },
  {
   "cell_type": "markdown",
   "id": "e24f0455",
   "metadata": {},
   "source": [
    "### Assignment operator\n",
    "- It is represented with =.\n",
    "- Leftside of the operator(=) is called as variable.\n",
    "- Rightside of the operator(=) is called as value.\n"
   ]
  },
  {
   "cell_type": "code",
   "execution_count": 25,
   "id": "996d3022",
   "metadata": {},
   "outputs": [
    {
     "name": "stdout",
     "output_type": "stream",
     "text": [
      "20\n",
      "30\n"
     ]
    }
   ],
   "source": [
    "a=20\n",
    "b=30\n",
    "print(a)\n",
    "print(b)"
   ]
  },
  {
   "cell_type": "markdown",
   "id": "43723776",
   "metadata": {},
   "source": [
    "## Comparision operator"
   ]
  },
  {
   "cell_type": "code",
   "execution_count": 26,
   "id": "f0307d9a",
   "metadata": {},
   "outputs": [
    {
     "data": {
      "text/plain": [
       "False"
      ]
     },
     "execution_count": 26,
     "metadata": {},
     "output_type": "execute_result"
    }
   ],
   "source": [
    "2>5"
   ]
  },
  {
   "cell_type": "code",
   "execution_count": 27,
   "id": "8a3e6e14",
   "metadata": {},
   "outputs": [
    {
     "data": {
      "text/plain": [
       "True"
      ]
     },
     "execution_count": 27,
     "metadata": {},
     "output_type": "execute_result"
    }
   ],
   "source": [
    "2<5"
   ]
  },
  {
   "cell_type": "code",
   "execution_count": 29,
   "id": "599336e1",
   "metadata": {},
   "outputs": [
    {
     "name": "stdout",
     "output_type": "stream",
     "text": [
      " print true or false\n"
     ]
    }
   ],
   "source": [
    "if 2<9 and 2<6:\n",
    "    print(\" print true or false\")\n",
    "else:\n",
    "    print(\"not right\")"
   ]
  },
  {
   "cell_type": "code",
   "execution_count": 30,
   "id": "3c9bcb91",
   "metadata": {},
   "outputs": [
    {
     "data": {
      "text/plain": [
       "True"
      ]
     },
     "execution_count": 30,
     "metadata": {},
     "output_type": "execute_result"
    }
   ],
   "source": [
    " 2<=6"
   ]
  },
  {
   "cell_type": "code",
   "execution_count": 31,
   "id": "ac899fe9",
   "metadata": {},
   "outputs": [
    {
     "data": {
      "text/plain": [
       "True"
      ]
     },
     "execution_count": 31,
     "metadata": {},
     "output_type": "execute_result"
    }
   ],
   "source": [
    "3>=3"
   ]
  },
  {
   "cell_type": "code",
   "execution_count": 33,
   "id": "53fd08f6",
   "metadata": {},
   "outputs": [
    {
     "data": {
      "text/plain": [
       "False"
      ]
     },
     "execution_count": 33,
     "metadata": {},
     "output_type": "execute_result"
    }
   ],
   "source": [
    "3==2"
   ]
  },
  {
   "cell_type": "markdown",
   "id": "941ecb1b",
   "metadata": {},
   "source": [
    "### Logical operators\n",
    "- and,or,not.\n",
    "- if all the inputs are True the output is True(and).\n",
    "- if any of the input is True the output is True(or).\n",
    "- opposite operation for the given one(not)\n"
   ]
  },
  {
   "cell_type": "code",
   "execution_count": 34,
   "id": "68efbd7e",
   "metadata": {},
   "outputs": [
    {
     "data": {
      "text/plain": [
       "False"
      ]
     },
     "execution_count": 34,
     "metadata": {},
     "output_type": "execute_result"
    }
   ],
   "source": [
    "2>5 and 3<6"
   ]
  },
  {
   "cell_type": "code",
   "execution_count": 35,
   "id": "8f388322",
   "metadata": {},
   "outputs": [
    {
     "data": {
      "text/plain": [
       "False"
      ]
     },
     "execution_count": 35,
     "metadata": {},
     "output_type": "execute_result"
    }
   ],
   "source": [
    "2<5 and 3>9"
   ]
  },
  {
   "cell_type": "code",
   "execution_count": 36,
   "id": "a019b724",
   "metadata": {},
   "outputs": [
    {
     "data": {
      "text/plain": [
       "True"
      ]
     },
     "execution_count": 36,
     "metadata": {},
     "output_type": "execute_result"
    }
   ],
   "source": [
    "2<5 and 3>1"
   ]
  },
  {
   "cell_type": "code",
   "execution_count": 37,
   "id": "cf935d67",
   "metadata": {},
   "outputs": [
    {
     "data": {
      "text/plain": [
       "True"
      ]
     },
     "execution_count": 37,
     "metadata": {},
     "output_type": "execute_result"
    }
   ],
   "source": [
    "2<5 or 3>7"
   ]
  },
  {
   "cell_type": "code",
   "execution_count": 39,
   "id": "bf72cc11",
   "metadata": {},
   "outputs": [
    {
     "data": {
      "text/plain": [
       "True"
      ]
     },
     "execution_count": 39,
     "metadata": {},
     "output_type": "execute_result"
    }
   ],
   "source": [
    "5>9 or 8<9"
   ]
  },
  {
   "cell_type": "code",
   "execution_count": 40,
   "id": "34b7476d",
   "metadata": {},
   "outputs": [
    {
     "data": {
      "text/plain": [
       "False"
      ]
     },
     "execution_count": 40,
     "metadata": {},
     "output_type": "execute_result"
    }
   ],
   "source": [
    "8<4 or 7<2"
   ]
  },
  {
   "cell_type": "code",
   "execution_count": 41,
   "id": "32cbee28",
   "metadata": {},
   "outputs": [
    {
     "data": {
      "text/plain": [
       "False"
      ]
     },
     "execution_count": 41,
     "metadata": {},
     "output_type": "execute_result"
    }
   ],
   "source": [
    "a=100\n",
    "not a"
   ]
  },
  {
   "cell_type": "code",
   "execution_count": 43,
   "id": "620b222a",
   "metadata": {},
   "outputs": [
    {
     "data": {
      "text/plain": [
       "False"
      ]
     },
     "execution_count": 43,
     "metadata": {},
     "output_type": "execute_result"
    }
   ],
   "source": [
    "a=True\n",
    "not a"
   ]
  },
  {
   "cell_type": "code",
   "execution_count": 44,
   "id": "1d4c9912",
   "metadata": {},
   "outputs": [
    {
     "data": {
      "text/plain": [
       "True"
      ]
     },
     "execution_count": 44,
     "metadata": {},
     "output_type": "execute_result"
    }
   ],
   "source": [
    "a=False\n",
    "not a"
   ]
  },
  {
   "cell_type": "markdown",
   "id": "a58f4ef3",
   "metadata": {},
   "source": [
    "## Bitwise operators\n"
   ]
  },
  {
   "cell_type": "code",
   "execution_count": 66,
   "id": "cbb18f65",
   "metadata": {},
   "outputs": [
    {
     "data": {
      "text/plain": [
       "2"
      ]
     },
     "execution_count": 66,
     "metadata": {},
     "output_type": "execute_result"
    }
   ],
   "source": [
    "2 & 3\n",
    "# 2-0 0 1 0\n",
    "# 7-0 1 1 1\n",
    "# ---------\n",
    "# - 0 0 1 0\n"
   ]
  },
  {
   "cell_type": "code",
   "execution_count": 46,
   "id": "da05cd48",
   "metadata": {},
   "outputs": [
    {
     "data": {
      "text/plain": [
       "7"
      ]
     },
     "execution_count": 46,
     "metadata": {},
     "output_type": "execute_result"
    }
   ],
   "source": [
    "2|7"
   ]
  },
  {
   "cell_type": "code",
   "execution_count": 47,
   "id": "eb127567",
   "metadata": {},
   "outputs": [
    {
     "data": {
      "text/plain": [
       "3"
      ]
     },
     "execution_count": 47,
     "metadata": {},
     "output_type": "execute_result"
    }
   ],
   "source": [
    "2|3"
   ]
  },
  {
   "cell_type": "markdown",
   "id": "7f008368",
   "metadata": {},
   "source": [
    "## Identity operators"
   ]
  },
  {
   "cell_type": "code",
   "execution_count": 49,
   "id": "4e0aadff",
   "metadata": {},
   "outputs": [
    {
     "name": "stderr",
     "output_type": "stream",
     "text": [
      "<>:2: SyntaxWarning: \"is\" with a literal. Did you mean \"==\"?\n",
      "<>:2: SyntaxWarning: \"is not\" with a literal. Did you mean \"!=\"?\n",
      "<>:2: SyntaxWarning: \"is\" with a literal. Did you mean \"==\"?\n",
      "<>:2: SyntaxWarning: \"is not\" with a literal. Did you mean \"!=\"?\n",
      "C:\\Users\\LAB\\AppData\\Local\\Temp/ipykernel_4080/421671943.py:2: SyntaxWarning: \"is\" with a literal. Did you mean \"==\"?\n",
      "  - a is 100 and a is not 100\n",
      "C:\\Users\\LAB\\AppData\\Local\\Temp/ipykernel_4080/421671943.py:2: SyntaxWarning: \"is not\" with a literal. Did you mean \"!=\"?\n",
      "  - a is 100 and a is not 100\n"
     ]
    },
    {
     "data": {
      "text/plain": [
       "False"
      ]
     },
     "execution_count": 49,
     "metadata": {},
     "output_type": "execute_result"
    }
   ],
   "source": [
    "\n",
    "- a is 100 and a is not 100"
   ]
  },
  {
   "cell_type": "code",
   "execution_count": 50,
   "id": "73b3305f",
   "metadata": {},
   "outputs": [
    {
     "data": {
      "text/plain": [
       "False"
      ]
     },
     "execution_count": 50,
     "metadata": {},
     "output_type": "execute_result"
    }
   ],
   "source": [
    "a==100 and a!=100"
   ]
  },
  {
   "cell_type": "markdown",
   "id": "33ae0cdd",
   "metadata": {},
   "source": [
    "## Membership operators"
   ]
  },
  {
   "cell_type": "code",
   "execution_count": 51,
   "id": "cdcf6163",
   "metadata": {},
   "outputs": [
    {
     "data": {
      "text/plain": [
       "False"
      ]
     },
     "execution_count": 51,
     "metadata": {},
     "output_type": "execute_result"
    }
   ],
   "source": [
    "s=[1,3,5,6,8,9]\n",
    "4 in s"
   ]
  },
  {
   "cell_type": "code",
   "execution_count": 52,
   "id": "fd9beb3d",
   "metadata": {},
   "outputs": [
    {
     "name": "stderr",
     "output_type": "stream",
     "text": [
      "<>:1: SyntaxWarning: \"is not\" with a literal. Did you mean \"!=\"?\n",
      "<>:1: SyntaxWarning: \"is not\" with a literal. Did you mean \"!=\"?\n",
      "C:\\Users\\LAB\\AppData\\Local\\Temp/ipykernel_4080/169007513.py:1: SyntaxWarning: \"is not\" with a literal. Did you mean \"!=\"?\n",
      "  10 is not s\n"
     ]
    },
    {
     "data": {
      "text/plain": [
       "True"
      ]
     },
     "execution_count": 52,
     "metadata": {},
     "output_type": "execute_result"
    }
   ],
   "source": [
    "10 is not s"
   ]
  },
  {
   "cell_type": "code",
   "execution_count": 53,
   "id": "50df7d74",
   "metadata": {},
   "outputs": [
    {
     "data": {
      "text/plain": [
       "True"
      ]
     },
     "execution_count": 53,
     "metadata": {},
     "output_type": "execute_result"
    }
   ],
   "source": [
    "3 in s"
   ]
  },
  {
   "cell_type": "code",
   "execution_count": 65,
   "id": "f9003575",
   "metadata": {},
   "outputs": [
    {
     "name": "stdout",
     "output_type": "stream",
     "text": [
      "31\n",
      "30\n",
      "30\n",
      "30.0\n"
     ]
    }
   ],
   "source": [
    "a=30\n",
    "a+=1 #------>a=a+1\n",
    "print(a)\n",
    "a-=1 #------>a=a-1\n",
    "print(a)\n",
    "a*=1 #------>a=a*1\n",
    "print(a)\n",
    "a/=1 #------>a=a/1\n",
    "print(a)"
   ]
  },
  {
   "cell_type": "markdown",
   "id": "1fbc77bb",
   "metadata": {},
   "source": [
    "### Flow control\n",
    "- Conditonal statements(if,else,else-if,nested if)\n",
    "- Looping (while,for)\n",
    "- Break,return."
   ]
  },
  {
   "cell_type": "code",
   "execution_count": null,
   "id": "7f86b48e",
   "metadata": {},
   "outputs": [],
   "source": [
    "# c-language\n",
    "if(condition):\n",
    "{\n",
    "print(a)\n",
    "}"
   ]
  },
  {
   "cell_type": "markdown",
   "id": "ce6915dd",
   "metadata": {},
   "source": [
    "## Conditional statements"
   ]
  },
  {
   "cell_type": "code",
   "execution_count": null,
   "id": "410b2d58",
   "metadata": {},
   "outputs": [],
   "source": [
    "# if\n",
    "if(condition):\n",
    "    statement1\n",
    "    statement2\n",
    "    statement3\n",
    "    ----------\n",
    "    statementn"
   ]
  },
  {
   "cell_type": "code",
   "execution_count": null,
   "id": "53a92169",
   "metadata": {},
   "outputs": [],
   "source": [
    "#if-else\n",
    "if(condition):\n",
    "    statement1\n",
    "    statement2\n",
    "    statement3\n",
    "    ----------\n",
    "    statementn\n",
    "else:\n",
    "    statement1\n",
    "    statement2\n",
    "    ----------\n",
    "    statementn\n",
    "\n",
    "                \n",
    "    "
   ]
  },
  {
   "cell_type": "code",
   "execution_count": null,
   "id": "a2eb076c",
   "metadata": {},
   "outputs": [],
   "source": [
    "if 2>3:\n",
    "    print(\"true\")\n",
    "    print(\"false\n",
    "          "
   ]
  },
  {
   "cell_type": "code",
   "execution_count": 73,
   "id": "6b93a078",
   "metadata": {},
   "outputs": [
    {
     "name": "stdout",
     "output_type": "stream",
     "text": [
      "false\n"
     ]
    }
   ],
   "source": [
    "# Biggest among 2 numbers \n",
    "if 2>3:\n",
    "    print(\"true\")\n",
    "else:\n",
    "    print(\"false\")"
   ]
  },
  {
   "cell_type": "code",
   "execution_count": 75,
   "id": "eed96773",
   "metadata": {},
   "outputs": [
    {
     "name": "stdout",
     "output_type": "stream",
     "text": [
      "enter number : 3\n",
      "it is Odd\n"
     ]
    }
   ],
   "source": [
    "# given number is even or odd\n",
    "a=int(input(\"enter number : \"))\n",
    "if(a%2==0):\n",
    "    print(\"it is Even\")\n",
    "else:\n",
    "    print(\"it is Odd\")"
   ]
  },
  {
   "cell_type": "code",
   "execution_count": 84,
   "id": "62ab6414",
   "metadata": {},
   "outputs": [
    {
     "name": "stdout",
     "output_type": "stream",
     "text": [
      "enter a value : 30\n",
      "a is positive\n"
     ]
    }
   ],
   "source": [
    "# given number is zero or positive or negative\n",
    "a=int(input(\"enter a value : \"))\n",
    "if(a>0):\n",
    "    print(\"a is positive\")\n",
    "elif(a==0):\n",
    "    print(\"a is zero\")\n",
    "else:\n",
    "    print(\"a is negative\")\n"
   ]
  },
  {
   "cell_type": "code",
   "execution_count": 92,
   "id": "a2a4c43f",
   "metadata": {},
   "outputs": [
    {
     "name": "stdout",
     "output_type": "stream",
     "text": [
      "enter a value : 30\n",
      "given number is not valid\n"
     ]
    }
   ],
   "source": [
    "#given number is divisible by 2 but not divisible by 10\n",
    "a=int(input(\"enter a value : \"))\n",
    "if(a%2==0)and(a%10!=0):\n",
    "    print(\" given number is valid number\")\n",
    "else:\n",
    "    print(\"given number is not valid\")\n",
    "    \n"
   ]
  },
  {
   "cell_type": "markdown",
   "id": "4f548e0d",
   "metadata": {},
   "source": [
    "### Range\n",
    "- Syntax for the range is range(start,endvalue,step value)\n",
    "- Starting value is inclusive and end value is exclusive.\n",
    "- range(start,end,step)"
   ]
  },
  {
   "cell_type": "code",
   "execution_count": null,
   "id": "13aaa970",
   "metadata": {},
   "outputs": [],
   "source": [
    "range(10,20,1)\n",
    "# 10,11,12,13,14,15,16,17,18,19.\n",
    "range(10,20,2)\n",
    "# 10,12,14,16,18.\n",
    "range(20,50,5)\n",
    "# 20,25,30,35,40,45.\n",
    "range(40)\n",
    "# consider as end value\n",
    "range(20,30)\n",
    "# consider as start and end value\n",
    "range(20,10,-1)\n",
    "# 20,19,18,17,16,15,14,13,12,11.\n",
    "# reverse printing\n",
    "\n"
   ]
  },
  {
   "cell_type": "code",
   "execution_count": 94,
   "id": "66a9f412",
   "metadata": {},
   "outputs": [
    {
     "data": {
      "text/plain": [
       "[10, 11, 12, 13, 14, 15, 16, 17, 18, 19]"
      ]
     },
     "execution_count": 94,
     "metadata": {},
     "output_type": "execute_result"
    }
   ],
   "source": [
    "list(range(10,20,1))"
   ]
  },
  {
   "cell_type": "code",
   "execution_count": 95,
   "id": "e8349e1b",
   "metadata": {},
   "outputs": [
    {
     "data": {
      "text/plain": [
       "[20, 22, 24, 26, 28]"
      ]
     },
     "execution_count": 95,
     "metadata": {},
     "output_type": "execute_result"
    }
   ],
   "source": [
    "list(range(20,30,2))"
   ]
  },
  {
   "cell_type": "code",
   "execution_count": 96,
   "id": "106f82a8",
   "metadata": {},
   "outputs": [
    {
     "data": {
      "text/plain": [
       "[20, 25, 30, 35, 40, 45]"
      ]
     },
     "execution_count": 96,
     "metadata": {},
     "output_type": "execute_result"
    }
   ],
   "source": [
    "list(range(20,50,5))"
   ]
  },
  {
   "cell_type": "code",
   "execution_count": 97,
   "id": "c1097d59",
   "metadata": {},
   "outputs": [
    {
     "data": {
      "text/plain": [
       "[0, 1, 2, 3, 4, 5, 6, 7, 8, 9]"
      ]
     },
     "execution_count": 97,
     "metadata": {},
     "output_type": "execute_result"
    }
   ],
   "source": [
    "list(range(10))"
   ]
  },
  {
   "cell_type": "code",
   "execution_count": 98,
   "id": "94745fbf",
   "metadata": {},
   "outputs": [
    {
     "data": {
      "text/plain": [
       "[20, 21, 22, 23, 24, 25, 26, 27, 28, 29]"
      ]
     },
     "execution_count": 98,
     "metadata": {},
     "output_type": "execute_result"
    }
   ],
   "source": [
    "list(range(20,30))"
   ]
  },
  {
   "cell_type": "code",
   "execution_count": 99,
   "id": "f3dc8dc6",
   "metadata": {},
   "outputs": [
    {
     "data": {
      "text/plain": [
       "[20, 19, 18, 17, 16, 15, 14, 13, 12, 11]"
      ]
     },
     "execution_count": 99,
     "metadata": {},
     "output_type": "execute_result"
    }
   ],
   "source": [
    "list(range(20,10,-1))"
   ]
  },
  {
   "cell_type": "code",
   "execution_count": null,
   "id": "d4f19a9a",
   "metadata": {},
   "outputs": [],
   "source": []
  }
 ],
 "metadata": {
  "kernelspec": {
   "display_name": "Python 3 (ipykernel)",
   "language": "python",
   "name": "python3"
  },
  "language_info": {
   "codemirror_mode": {
    "name": "ipython",
    "version": 3
   },
   "file_extension": ".py",
   "mimetype": "text/x-python",
   "name": "python",
   "nbconvert_exporter": "python",
   "pygments_lexer": "ipython3",
   "version": "3.9.7"
  }
 },
 "nbformat": 4,
 "nbformat_minor": 5
}

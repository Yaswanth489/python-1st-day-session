{
 "cells": [
  {
   "cell_type": "markdown",
   "id": "5f4d982e",
   "metadata": {},
   "source": [
    "# Day-2 session\n",
    "## 02-02-2022\n"
   ]
  },
  {
   "cell_type": "markdown",
   "id": "8c784b9f",
   "metadata": {},
   "source": [
    "### Input and output methods\n",
    "- Reading the data or information from the user---***input()***\n",
    "    - Static input\n",
    "    - Dynamic input\n",
    "- Displaying the information or data to the user---***print()***\n"
   ]
  },
  {
   "cell_type": "code",
   "execution_count": 4,
   "id": "098fc866",
   "metadata": {},
   "outputs": [
    {
     "name": "stdout",
     "output_type": "stream",
     "text": [
      "10\n",
      "50\n"
     ]
    }
   ],
   "source": [
    "a=10\n",
    "b=50\n",
    "print(a)\n",
    "print(b)"
   ]
  },
  {
   "cell_type": "code",
   "execution_count": 3,
   "id": "952072b6",
   "metadata": {},
   "outputs": [
    {
     "name": "stdout",
     "output_type": "stream",
     "text": [
      "Yawanth\n"
     ]
    },
    {
     "data": {
      "text/plain": [
       "'Yawanth'"
      ]
     },
     "execution_count": 3,
     "metadata": {},
     "output_type": "execute_result"
    }
   ],
   "source": [
    "a=input()\n",
    "a"
   ]
  },
  {
   "cell_type": "code",
   "execution_count": 5,
   "id": "fdf0c6d2",
   "metadata": {},
   "outputs": [
    {
     "name": "stdout",
     "output_type": "stream",
     "text": [
      "345\n"
     ]
    },
    {
     "data": {
      "text/plain": [
       "'345'"
      ]
     },
     "execution_count": 5,
     "metadata": {},
     "output_type": "execute_result"
    }
   ],
   "source": [
    "a=input()\n",
    "a"
   ]
  },
  {
   "cell_type": "code",
   "execution_count": 7,
   "id": "f1c52a3c",
   "metadata": {},
   "outputs": [
    {
     "name": "stdout",
     "output_type": "stream",
     "text": [
      "enter user value : Hai welcome\n"
     ]
    },
    {
     "data": {
      "text/plain": [
       "'Hai welcome'"
      ]
     },
     "execution_count": 7,
     "metadata": {},
     "output_type": "execute_result"
    }
   ],
   "source": [
    "a=input(\"enter user value : \")\n",
    "a"
   ]
  },
  {
   "cell_type": "code",
   "execution_count": 1,
   "id": "e1be8bd9",
   "metadata": {},
   "outputs": [
    {
     "name": "stdout",
     "output_type": "stream",
     "text": [
      "enter the value : 345\n"
     ]
    },
    {
     "data": {
      "text/plain": [
       "345.0"
      ]
     },
     "execution_count": 1,
     "metadata": {},
     "output_type": "execute_result"
    }
   ],
   "source": [
    "a=float(input(\"enter the value : \"))\n",
    "a"
   ]
  },
  {
   "cell_type": "code",
   "execution_count": 3,
   "id": "285f8ab7",
   "metadata": {},
   "outputs": [
    {
     "name": "stdout",
     "output_type": "stream",
     "text": [
      " enter value : 356\n",
      "356\n"
     ]
    }
   ],
   "source": [
    "a=input(\" enter value : \")\n",
    "print(a)"
   ]
  },
  {
   "cell_type": "code",
   "execution_count": 12,
   "id": "49ff0044",
   "metadata": {},
   "outputs": [
    {
     "name": "stdout",
     "output_type": "stream",
     "text": [
      "10,20,50%50\n"
     ]
    }
   ],
   "source": [
    "a=10\n",
    "b=20\n",
    "c=50\n",
    "print(a,b,c,sep=\",\",end=\"%\")\n",
    "print(c)"
   ]
  },
  {
   "cell_type": "code",
   "execution_count": 5,
   "id": "71b65dd1",
   "metadata": {},
   "outputs": [
    {
     "name": "stdout",
     "output_type": "stream",
     "text": [
      "Help on built-in function print in module builtins:\n",
      "\n",
      "print(...)\n",
      "    print(value, ..., sep=' ', end='\\n', file=sys.stdout, flush=False)\n",
      "    \n",
      "    Prints the values to a stream, or to sys.stdout by default.\n",
      "    Optional keyword arguments:\n",
      "    file:  a file-like object (stream); defaults to the current sys.stdout.\n",
      "    sep:   string inserted between values, default a space.\n",
      "    end:   string appended after the last value, default a newline.\n",
      "    flush: whether to forcibly flush the stream.\n",
      "\n"
     ]
    }
   ],
   "source": [
    "help(print)"
   ]
  },
  {
   "cell_type": "code",
   "execution_count": 13,
   "id": "a2071c84",
   "metadata": {},
   "outputs": [
    {
     "name": "stdout",
     "output_type": "stream",
     "text": [
      "10,20,50\n",
      "50\n"
     ]
    }
   ],
   "source": [
    "a=10\n",
    "b=20\n",
    "c=50\n",
    "print(a,b,c,sep=\",\",end=\"\\n\")\n",
    "print(c)"
   ]
  },
  {
   "cell_type": "code",
   "execution_count": 19,
   "id": "acb5956f",
   "metadata": {},
   "outputs": [
    {
     "name": "stdout",
     "output_type": "stream",
     "text": [
      "enter a : 30\n",
      "enter b : 60\n",
      "enter c : 90\n",
      "30$ 60$ 90%30 60 90\n"
     ]
    }
   ],
   "source": [
    " # generate three values from user.that values separated with $ and end with %,6 again print three values\n",
    "a=input(\"enter a : \")\n",
    "b=input(\"enter b : \")\n",
    "c=input(\"enter c : \")\n",
    "print(a,b,c,sep=\"$ \",end=\"%\")\n",
    "print(a,b,c,end=\"\\n\")\n",
    "    \n",
    "    \n",
    "    "
   ]
  },
  {
   "cell_type": "markdown",
   "id": "9300ab26",
   "metadata": {},
   "source": [
    "### Operators\n",
    "- Arthimatic operators(+,-,*,**,/,//,%)\n",
    "    - Output for the normal division is quotient.\n",
    "    - Output for the integer division or floor division is integer part of the quotient.\n",
    "    - Output for the modulo division is remainder.\n",
    "- Asignment operators(=)\n",
    "- Comparision operators(>,<,<=,>=,==)\n",
    "- Logical operators(and,or,not)\n",
    "- Bitwise operator(&,|,^)\n",
    "- Identity operators(==),isnot(!=)\n",
    "- Membership operators(in.notin)\n"
   ]
  },
  {
   "cell_type": "markdown",
   "id": "3add7233",
   "metadata": {},
   "source": [
    "# Arithmatic operators\n"
   ]
  },
  {
   "cell_type": "code",
   "execution_count": 24,
   "id": "9e3b9e06",
   "metadata": {},
   "outputs": [
    {
     "name": "stdout",
     "output_type": "stream",
     "text": [
      "addition :  7\n",
      "subtraction :  3\n",
      "multiplication :  10\n",
      "power :  25\n",
      "division :  2.5\n",
      "int division or floor division : 2\n",
      "modulo division :  1\n"
     ]
    }
   ],
   "source": [
    "a=5\n",
    "b=2\n",
    "print(\"addition : \",a+b)\n",
    "print(\"subtraction : \",a-b)\n",
    "print(\"multiplication : \",a*b)\n",
    "print(\"power : \",a**b)\n",
    "print(\"division : \",a/b)\n",
    "print(\"int division or floor division :\",a//b)\n",
    "print(\"modulo division : \",a%b)"
   ]
  },
  {
   "cell_type": "markdown",
   "id": "4ec34955",
   "metadata": {},
   "source": [
    "### Assignment operator\n",
    "- It is represented with =.\n",
    "- Leftside of the operator(=) is called as variable.\n",
    "- Rightside of the operator(=) is called as value.\n"
   ]
  },
  {
   "cell_type": "code",
   "execution_count": 25,
   "id": "098650a2",
   "metadata": {},
   "outputs": [
    {
     "name": "stdout",
     "output_type": "stream",
     "text": [
      "20\n",
      "30\n"
     ]
    }
   ],
   "source": [
    "a=20\n",
    "b=30\n",
    "print(a)\n",
    "print(b)"
   ]
  },
  {
   "cell_type": "markdown",
   "id": "a3b7892a",
   "metadata": {},
   "source": [
    "## Comparision operator"
   ]
  },
  {
   "cell_type": "code",
   "execution_count": 26,
   "id": "8accdceb",
   "metadata": {},
   "outputs": [
    {
     "data": {
      "text/plain": [
       "False"
      ]
     },
     "execution_count": 26,
     "metadata": {},
     "output_type": "execute_result"
    }
   ],
   "source": [
    "2>5"
   ]
  },
  {
   "cell_type": "code",
   "execution_count": 27,
   "id": "059efe7b",
   "metadata": {},
   "outputs": [
    {
     "data": {
      "text/plain": [
       "True"
      ]
     },
     "execution_count": 27,
     "metadata": {},
     "output_type": "execute_result"
    }
   ],
   "source": [
    "2<5"
   ]
  },
  {
   "cell_type": "code",
   "execution_count": 29,
   "id": "a5193660",
   "metadata": {},
   "outputs": [
    {
     "name": "stdout",
     "output_type": "stream",
     "text": [
      " print true or false\n"
     ]
    }
   ],
   "source": [
    "if 2<9 and 2<6:\n",
    "    print(\" print true or false\")\n",
    "else:\n",
    "    print(\"not right\")"
   ]
  },
  {
   "cell_type": "code",
   "execution_count": 30,
   "id": "b616c775",
   "metadata": {},
   "outputs": [
    {
     "data": {
      "text/plain": [
       "True"
      ]
     },
     "execution_count": 30,
     "metadata": {},
     "output_type": "execute_result"
    }
   ],
   "source": [
    " 2<=6"
   ]
  },
  {
   "cell_type": "code",
   "execution_count": 31,
   "id": "24fe9901",
   "metadata": {},
   "outputs": [
    {
     "data": {
      "text/plain": [
       "True"
      ]
     },
     "execution_count": 31,
     "metadata": {},
     "output_type": "execute_result"
    }
   ],
   "source": [
    "3>=3"
   ]
  },
  {
   "cell_type": "code",
   "execution_count": 33,
   "id": "1e3c0bdd",
   "metadata": {},
   "outputs": [
    {
     "data": {
      "text/plain": [
       "False"
      ]
     },
     "execution_count": 33,
     "metadata": {},
     "output_type": "execute_result"
    }
   ],
   "source": [
    "3==2"
   ]
  },
  {
   "cell_type": "markdown",
   "id": "f044430b",
   "metadata": {},
   "source": [
    "### Logical operators\n",
    "- and,or,not.\n",
    "- if all the inputs are True the output is True(and).\n",
    "- if any of the input is True the output is True(or).\n",
    "- opposite operation for the given one(not)\n"
   ]
  },
  {
   "cell_type": "code",
   "execution_count": 34,
   "id": "f19105cb",
   "metadata": {},
   "outputs": [
    {
     "data": {
      "text/plain": [
       "False"
      ]
     },
     "execution_count": 34,
     "metadata": {},
     "output_type": "execute_result"
    }
   ],
   "source": [
    "2>5 and 3<6"
   ]
  },
  {
   "cell_type": "code",
   "execution_count": 35,
   "id": "07b13269",
   "metadata": {},
   "outputs": [
    {
     "data": {
      "text/plain": [
       "False"
      ]
     },
     "execution_count": 35,
     "metadata": {},
     "output_type": "execute_result"
    }
   ],
   "source": [
    "2<5 and 3>9"
   ]
  },
  {
   "cell_type": "code",
   "execution_count": 36,
   "id": "be62a068",
   "metadata": {},
   "outputs": [
    {
     "data": {
      "text/plain": [
       "True"
      ]
     },
     "execution_count": 36,
     "metadata": {},
     "output_type": "execute_result"
    }
   ],
   "source": [
    "2<5 and 3>1"
   ]
  },
  {
   "cell_type": "code",
   "execution_count": 37,
   "id": "f52789d7",
   "metadata": {},
   "outputs": [
    {
     "data": {
      "text/plain": [
       "True"
      ]
     },
     "execution_count": 37,
     "metadata": {},
     "output_type": "execute_result"
    }
   ],
   "source": [
    "2<5 or 3>7"
   ]
  },
  {
   "cell_type": "code",
   "execution_count": 39,
   "id": "72852c65",
   "metadata": {},
   "outputs": [
    {
     "data": {
      "text/plain": [
       "True"
      ]
     },
     "execution_count": 39,
     "metadata": {},
     "output_type": "execute_result"
    }
   ],
   "source": [
    "5>9 or 8<9"
   ]
  },
  {
   "cell_type": "code",
   "execution_count": 40,
   "id": "c4a18b2c",
   "metadata": {},
   "outputs": [
    {
     "data": {
      "text/plain": [
       "False"
      ]
     },
     "execution_count": 40,
     "metadata": {},
     "output_type": "execute_result"
    }
   ],
   "source": [
    "8<4 or 7<2"
   ]
  },
  {
   "cell_type": "code",
   "execution_count": 41,
   "id": "a9ccbc00",
   "metadata": {},
   "outputs": [
    {
     "data": {
      "text/plain": [
       "False"
      ]
     },
     "execution_count": 41,
     "metadata": {},
     "output_type": "execute_result"
    }
   ],
   "source": [
    "a=100\n",
    "not a"
   ]
  },
  {
   "cell_type": "code",
   "execution_count": 43,
   "id": "89de22dc",
   "metadata": {},
   "outputs": [
    {
     "data": {
      "text/plain": [
       "False"
      ]
     },
     "execution_count": 43,
     "metadata": {},
     "output_type": "execute_result"
    }
   ],
   "source": [
    "a=True\n",
    "not a"
   ]
  },
  {
   "cell_type": "code",
   "execution_count": 44,
   "id": "f6de232d",
   "metadata": {},
   "outputs": [
    {
     "data": {
      "text/plain": [
       "True"
      ]
     },
     "execution_count": 44,
     "metadata": {},
     "output_type": "execute_result"
    }
   ],
   "source": [
    "a=False\n",
    "not a"
   ]
  },
  {
   "cell_type": "markdown",
   "id": "ea8dc722",
   "metadata": {},
   "source": [
    "## Bitwise operators\n"
   ]
  },
  {
   "cell_type": "code",
   "execution_count": 66,
   "id": "3ba955d1",
   "metadata": {},
   "outputs": [
    {
     "data": {
      "text/plain": [
       "2"
      ]
     },
     "execution_count": 66,
     "metadata": {},
     "output_type": "execute_result"
    }
   ],
   "source": [
    "2 & 3\n",
    "# 2-0 0 1 0\n",
    "# 7-0 1 1 1\n",
    "# ---------\n",
    "# - 0 0 1 0\n"
   ]
  },
  {
   "cell_type": "code",
   "execution_count": 46,
   "id": "999f0769",
   "metadata": {},
   "outputs": [
    {
     "data": {
      "text/plain": [
       "7"
      ]
     },
     "execution_count": 46,
     "metadata": {},
     "output_type": "execute_result"
    }
   ],
   "source": [
    "2|7"
   ]
  },
  {
   "cell_type": "code",
   "execution_count": 47,
   "id": "e650849d",
   "metadata": {},
   "outputs": [
    {
     "data": {
      "text/plain": [
       "3"
      ]
     },
     "execution_count": 47,
     "metadata": {},
     "output_type": "execute_result"
    }
   ],
   "source": [
    "2|3"
   ]
  },
  {
   "cell_type": "markdown",
   "id": "7cb092df",
   "metadata": {},
   "source": [
    "## Identity operators"
   ]
  },
  {
   "cell_type": "code",
   "execution_count": 49,
   "id": "a588b56d",
   "metadata": {},
   "outputs": [
    {
     "name": "stderr",
     "output_type": "stream",
     "text": [
      "<>:2: SyntaxWarning: \"is\" with a literal. Did you mean \"==\"?\n",
      "<>:2: SyntaxWarning: \"is not\" with a literal. Did you mean \"!=\"?\n",
      "<>:2: SyntaxWarning: \"is\" with a literal. Did you mean \"==\"?\n",
      "<>:2: SyntaxWarning: \"is not\" with a literal. Did you mean \"!=\"?\n",
      "C:\\Users\\LAB\\AppData\\Local\\Temp/ipykernel_4080/421671943.py:2: SyntaxWarning: \"is\" with a literal. Did you mean \"==\"?\n",
      "  - a is 100 and a is not 100\n",
      "C:\\Users\\LAB\\AppData\\Local\\Temp/ipykernel_4080/421671943.py:2: SyntaxWarning: \"is not\" with a literal. Did you mean \"!=\"?\n",
      "  - a is 100 and a is not 100\n"
     ]
    },
    {
     "data": {
      "text/plain": [
       "False"
      ]
     },
     "execution_count": 49,
     "metadata": {},
     "output_type": "execute_result"
    }
   ],
   "source": [
    "\n",
    "- a is 100 and a is not 100"
   ]
  },
  {
   "cell_type": "code",
   "execution_count": 50,
   "id": "aa43d031",
   "metadata": {},
   "outputs": [
    {
     "data": {
      "text/plain": [
       "False"
      ]
     },
     "execution_count": 50,
     "metadata": {},
     "output_type": "execute_result"
    }
   ],
   "source": [
    "a==100 and a!=100"
   ]
  },
  {
   "cell_type": "markdown",
   "id": "4f6af124",
   "metadata": {},
   "source": [
    "## Membership operators"
   ]
  },
  {
   "cell_type": "code",
   "execution_count": 51,
   "id": "3a1b66e3",
   "metadata": {},
   "outputs": [
    {
     "data": {
      "text/plain": [
       "False"
      ]
     },
     "execution_count": 51,
     "metadata": {},
     "output_type": "execute_result"
    }
   ],
   "source": [
    "s=[1,3,5,6,8,9]\n",
    "4 in s"
   ]
  },
  {
   "cell_type": "code",
   "execution_count": 52,
   "id": "d88865ae",
   "metadata": {},
   "outputs": [
    {
     "name": "stderr",
     "output_type": "stream",
     "text": [
      "<>:1: SyntaxWarning: \"is not\" with a literal. Did you mean \"!=\"?\n",
      "<>:1: SyntaxWarning: \"is not\" with a literal. Did you mean \"!=\"?\n",
      "C:\\Users\\LAB\\AppData\\Local\\Temp/ipykernel_4080/169007513.py:1: SyntaxWarning: \"is not\" with a literal. Did you mean \"!=\"?\n",
      "  10 is not s\n"
     ]
    },
    {
     "data": {
      "text/plain": [
       "True"
      ]
     },
     "execution_count": 52,
     "metadata": {},
     "output_type": "execute_result"
    }
   ],
   "source": [
    "10 is not s"
   ]
  },
  {
   "cell_type": "code",
   "execution_count": 53,
   "id": "00d2e1d7",
   "metadata": {},
   "outputs": [
    {
     "data": {
      "text/plain": [
       "True"
      ]
     },
     "execution_count": 53,
     "metadata": {},
     "output_type": "execute_result"
    }
   ],
   "source": [
    "3 in s"
   ]
  },
  {
   "cell_type": "code",
   "execution_count": 65,
   "id": "3b3b03f0",
   "metadata": {},
   "outputs": [
    {
     "name": "stdout",
     "output_type": "stream",
     "text": [
      "31\n",
      "30\n",
      "30\n",
      "30.0\n"
     ]
    }
   ],
   "source": [
    "a=30\n",
    "a+=1 #------>a=a+1\n",
    "print(a)\n",
    "a-=1 #------>a=a-1\n",
    "print(a)\n",
    "a*=1 #------>a=a*1\n",
    "print(a)\n",
    "a/=1 #------>a=a/1\n",
    "print(a)"
   ]
  },
  {
   "cell_type": "markdown",
   "id": "2fe8eeaf",
   "metadata": {},
   "source": [
    "### Flow control\n",
    "- Conditonal statements(if,else,else-if,nested if)\n",
    "- Looping (while,for)\n",
    "- Break,return."
   ]
  },
  {
   "cell_type": "code",
   "execution_count": null,
   "id": "3e09a2dd",
   "metadata": {},
   "outputs": [],
   "source": [
    "# c-language\n",
    "if(condition):\n",
    "{\n",
    "print(a)\n",
    "}"
   ]
  },
  {
   "cell_type": "markdown",
   "id": "b6b09166",
   "metadata": {},
   "source": [
    "## Conditional statements"
   ]
  },
  {
   "cell_type": "code",
   "execution_count": null,
   "id": "d7778974",
   "metadata": {},
   "outputs": [],
   "source": [
    "# if\n",
    "if(condition):\n",
    "    statement1\n",
    "    statement2\n",
    "    statement3\n",
    "    ----------\n",
    "    statementn"
   ]
  },
  {
   "cell_type": "code",
   "execution_count": null,
   "id": "5bbff8e6",
   "metadata": {},
   "outputs": [],
   "source": [
    "#if-else\n",
    "if(condition):\n",
    "    statement1\n",
    "    statement2\n",
    "    statement3\n",
    "    ----------\n",
    "    statementn\n",
    "else:\n",
    "    statement1\n",
    "    statement2\n",
    "    ----------\n",
    "    statementn\n",
    "\n",
    "                \n",
    "    "
   ]
  },
  {
   "cell_type": "code",
   "execution_count": null,
   "id": "9893f1b4",
   "metadata": {},
   "outputs": [],
   "source": [
    "if 2>3:\n",
    "    print(\"true\")\n",
    "    print(\"false\n",
    "          "
   ]
  },
  {
   "cell_type": "code",
   "execution_count": 73,
   "id": "120ec785",
   "metadata": {},
   "outputs": [
    {
     "name": "stdout",
     "output_type": "stream",
     "text": [
      "false\n"
     ]
    }
   ],
   "source": [
    "# Biggest among 2 numbers \n",
    "if 2>3:\n",
    "    print(\"true\")\n",
    "else:\n",
    "    print(\"false\")"
   ]
  },
  {
   "cell_type": "code",
   "execution_count": 75,
   "id": "c44ac81e",
   "metadata": {},
   "outputs": [
    {
     "name": "stdout",
     "output_type": "stream",
     "text": [
      "enter number : 3\n",
      "it is Odd\n"
     ]
    }
   ],
   "source": [
    "# given number is even or odd\n",
    "a=int(input(\"enter number : \"))\n",
    "if(a%2==0):\n",
    "    print(\"it is Even\")\n",
    "else:\n",
    "    print(\"it is Odd\")"
   ]
  },
  {
   "cell_type": "code",
   "execution_count": 84,
   "id": "31e15ca0",
   "metadata": {},
   "outputs": [
    {
     "name": "stdout",
     "output_type": "stream",
     "text": [
      "enter a value : 30\n",
      "a is positive\n"
     ]
    }
   ],
   "source": [
    "# given number is zero or positive or negative\n",
    "a=int(input(\"enter a value : \"))\n",
    "if(a>0):\n",
    "    print(\"a is positive\")\n",
    "elif(a==0):\n",
    "    print(\"a is zero\")\n",
    "else:\n",
    "    print(\"a is negative\")\n"
   ]
  },
  {
   "cell_type": "code",
   "execution_count": 92,
   "id": "8d902134",
   "metadata": {},
   "outputs": [
    {
     "name": "stdout",
     "output_type": "stream",
     "text": [
      "enter a value : 30\n",
      "given number is not valid\n"
     ]
    }
   ],
   "source": [
    "#given number is divisible by 2 but not divisible by 10\n",
    "a=int(input(\"enter a value : \"))\n",
    "if(a%2==0)and(a%10!=0):\n",
    "    print(\" given number is valid number\")\n",
    "else:\n",
    "    print(\"given number is not valid\")\n",
    "    \n"
   ]
  },
  {
   "cell_type": "markdown",
   "id": "9d15ca4a",
   "metadata": {},
   "source": [
    "### Range\n",
    "- Syntax for the range is range(start,endvalue,step value)\n",
    "- Starting value is inclusive and end value is exclusive.\n",
    "- range(start,end,step)"
   ]
  },
  {
   "cell_type": "code",
   "execution_count": null,
   "id": "a77a156c",
   "metadata": {},
   "outputs": [],
   "source": [
    "range(10,20,1)\n",
    "# 10,11,12,13,14,15,16,17,18,19.\n",
    "range(10,20,2)\n",
    "# 10,12,14,16,18.\n",
    "range(20,50,5)\n",
    "# 20,25,30,35,40,45.\n",
    "range(40)\n",
    "# consider as end value\n",
    "range(20,30)\n",
    "# consider as start and end value\n",
    "range(20,10,-1)\n",
    "# 20,19,18,17,16,15,14,13,12,11.\n",
    "# reverse printing\n",
    "\n"
   ]
  },
  {
   "cell_type": "code",
   "execution_count": 94,
   "id": "909b7eb7",
   "metadata": {},
   "outputs": [
    {
     "data": {
      "text/plain": [
       "[10, 11, 12, 13, 14, 15, 16, 17, 18, 19]"
      ]
     },
     "execution_count": 94,
     "metadata": {},
     "output_type": "execute_result"
    }
   ],
   "source": [
    "list(range(10,20,1))"
   ]
  },
  {
   "cell_type": "code",
   "execution_count": 95,
   "id": "0ff4a865",
   "metadata": {},
   "outputs": [
    {
     "data": {
      "text/plain": [
       "[20, 22, 24, 26, 28]"
      ]
     },
     "execution_count": 95,
     "metadata": {},
     "output_type": "execute_result"
    }
   ],
   "source": [
    "list(range(20,30,2))"
   ]
  },
  {
   "cell_type": "code",
   "execution_count": 96,
   "id": "8e7634cd",
   "metadata": {},
   "outputs": [
    {
     "data": {
      "text/plain": [
       "[20, 25, 30, 35, 40, 45]"
      ]
     },
     "execution_count": 96,
     "metadata": {},
     "output_type": "execute_result"
    }
   ],
   "source": [
    "list(range(20,50,5))"
   ]
  },
  {
   "cell_type": "code",
   "execution_count": 97,
   "id": "be2639e6",
   "metadata": {},
   "outputs": [
    {
     "data": {
      "text/plain": [
       "[0, 1, 2, 3, 4, 5, 6, 7, 8, 9]"
      ]
     },
     "execution_count": 97,
     "metadata": {},
     "output_type": "execute_result"
    }
   ],
   "source": [
    "list(range(10))"
   ]
  },
  {
   "cell_type": "code",
   "execution_count": 98,
   "id": "7edc15b9",
   "metadata": {},
   "outputs": [
    {
     "data": {
      "text/plain": [
       "[20, 21, 22, 23, 24, 25, 26, 27, 28, 29]"
      ]
     },
     "execution_count": 98,
     "metadata": {},
     "output_type": "execute_result"
    }
   ],
   "source": [
    "list(range(20,30))"
   ]
  },
  {
   "cell_type": "code",
   "execution_count": 99,
   "id": "2f4107aa",
   "metadata": {},
   "outputs": [
    {
     "data": {
      "text/plain": [
       "[20, 19, 18, 17, 16, 15, 14, 13, 12, 11]"
      ]
     },
     "execution_count": 99,
     "metadata": {},
     "output_type": "execute_result"
    }
   ],
   "source": [
    "list(range(20,10,-1))"
   ]
  },
  {
   "cell_type": "markdown",
   "id": "6f415efe",
   "metadata": {},
   "source": [
    "# Loops\n",
    "- For,while.\n",
    "- For Loop:::A For Loop in python is a control flow statement that is used to repeatedly execute a group of statements as long as the condition is satisfied.such a type of statements is also known as an Iterative statement therefore,A For Loop is an tterative statement."
   ]
  },
  {
   "cell_type": "code",
   "execution_count": null,
   "id": "d399971f",
   "metadata": {},
   "outputs": [],
   "source": [
    "Syntax:::\n",
    "for iter in iterable: # range predefined function in the position of iterable.\n",
    "    statement1\n",
    "    statement2\n",
    "    ----------\n",
    "    statementn"
   ]
  },
  {
   "cell_type": "code",
   "execution_count": 3,
   "id": "27f7d9d5",
   "metadata": {},
   "outputs": [
    {
     "name": "stdout",
     "output_type": "stream",
     "text": [
      "0 1 2 3 4 "
     ]
    }
   ],
   "source": [
    "for i in range(5):\n",
    "    print(i,end=\" \")\n"
   ]
  },
  {
   "cell_type": "code",
   "execution_count": 6,
   "id": "d227e345",
   "metadata": {},
   "outputs": [
    {
     "name": "stdout",
     "output_type": "stream",
     "text": [
      "0,2,4,6,8,10,"
     ]
    }
   ],
   "source": [
    "for i in range(0,11,2):\n",
    "    print(i,end=\",\")"
   ]
  },
  {
   "cell_type": "code",
   "execution_count": 7,
   "id": "10a44792",
   "metadata": {},
   "outputs": [
    {
     "name": "stdout",
     "output_type": "stream",
     "text": [
      "0 2 4 6 8 10 12 14 16 18 20 22 24 26 28 30 32 34 36 38 40 42 44 46 48 50 52 54 56 58 60 62 64 66 68 70 72 74 76 78 80 82 84 86 88 90 92 94 96 98 100 \n",
      "  even number count : 51\n"
     ]
    }
   ],
   "source": [
    "# print the even numbers in the range 0 to 100 and print even number count\n",
    "c=0\n",
    "for i in range(0,101,2):\n",
    "    c=c+1\n",
    "    print(i,end=\" \")\n",
    "print(\"\\n  even number coun\n",
    "    t :\",c)\n"
   ]
  },
  {
   "cell_type": "code",
   "execution_count": 8,
   "id": "a0b7e244",
   "metadata": {},
   "outputs": [
    {
     "name": "stdout",
     "output_type": "stream",
     "text": [
      "0 2 4 6 8 10 12 14 16 18 20 22 24 26 28 30 32 34 36 38 40 42 44 46 48 50 52 54 56 58 60 62 64 66 68 70 72 74 76 78 80 82 84 86 88 90 92 94 96 98 100 \n",
      "  even number count : 51\n"
     ]
    }
   ],
   "source": [
    "# Using if-condition.\n",
    "c=0\n",
    "for i in range(0,101):\n",
    "    if(i%2==0):\n",
    "        c=c+1\n",
    "        print(i,end=\" \")\n",
    "print(\"\\n  even number count :\",c)\n"
   ]
  },
  {
   "cell_type": "code",
   "execution_count": 15,
   "id": "0252cc3e",
   "metadata": {},
   "outputs": [
    {
     "name": "stdout",
     "output_type": "stream",
     "text": [
      "enter Year 1 : 1990\n",
      "enter Year 2 : 2020\n",
      "1992 1996 2000 2004 2008 2012 2016 2020 \n",
      " yaers coun :  8\n"
     ]
    }
   ],
   "source": [
    "# print leap years from the range of 2000 to 2020 and print years Count\n",
    "x=int(input(\"enter Year 1 : \"))\n",
    "y=int(input(\"enter Year 2 : \"))\n",
    "c=0\n",
    "for i in range(x,y+1):\n",
    "    if(i%4==0):\n",
    "        c=c+1\n",
    "        print(i,end=\" \")\n",
    "print(\"\\n yaers coun : \",c)"
   ]
  },
  {
   "cell_type": "code",
   "execution_count": 19,
   "id": "12c0936d",
   "metadata": {},
   "outputs": [
    {
     "name": "stdout",
     "output_type": "stream",
     "text": [
      "5 * 1 = 5\n",
      "5 * 2 = 10\n",
      "5 * 3 = 15\n",
      "5 * 4 = 20\n",
      "5 * 5 = 25\n",
      "5 * 6 = 30\n",
      "5 * 7 = 35\n",
      "5 * 8 = 40\n",
      "5 * 9 = 45\n",
      "5 * 10 = 50\n"
     ]
    }
   ],
   "source": [
    "# print 5th Table\n",
    "n=5\n",
    "for i in range(1,11):\n",
    "    print(n,\"*\",i,\"=\",n*i)\n",
    "    "
   ]
  },
  {
   "cell_type": "code",
   "execution_count": 31,
   "id": "59ffa970",
   "metadata": {},
   "outputs": [
    {
     "name": "stdout",
     "output_type": "stream",
     "text": [
      "The factors of 5 is :  1\n",
      "The factors of 5 is :  5\n"
     ]
    }
   ],
   "source": [
    "# print factors of 5.\n",
    "n=5\n",
    "for i in range(1,6):\n",
    "    if(n%i==0):\n",
    "        print(\"The factors of 5 is : \",i)"
   ]
  },
  {
   "cell_type": "code",
   "execution_count": 37,
   "id": "3b2990ad",
   "metadata": {},
   "outputs": [
    {
     "name": "stdout",
     "output_type": "stream",
     "text": [
      "15\n",
      "1 3 5 15 "
     ]
    }
   ],
   "source": [
    "# Factors of 5 using Runtime\n",
    "n=int(input())\n",
    "for i in range(1,n+1):\n",
    "    if(n%i==0):\n",
    "        print(i,end=\" \")"
   ]
  },
  {
   "cell_type": "code",
   "execution_count": 40,
   "id": "6d24a392",
   "metadata": {},
   "outputs": [
    {
     "name": "stdout",
     "output_type": "stream",
     "text": [
      "sss\n",
      "345\n"
     ]
    }
   ],
   "source": [
    "# TO check the ASCII values.\n",
    "# input=aba\n",
    "# 97+98+97=292\n",
    "# output=292\n",
    "x=input()\n",
    "s=0;\n",
    "for i in x:\n",
    "    s=s+ord(i)\n",
    "print(s)"
   ]
  },
  {
   "cell_type": "code",
   "execution_count": 48,
   "id": "59d19437",
   "metadata": {},
   "outputs": [
    {
     "name": "stdout",
     "output_type": "stream",
     "text": [
      "7\n",
      "It is Prime Number\n"
     ]
    }
   ],
   "source": [
    "# Print prime numbers\n",
    "n=int(input())\n",
    "c=0\n",
    "for i in range(1,n+1):\n",
    "    if(n%i==0):\n",
    "        c=c+1\n",
    "if(c==2):  \n",
    "     print(\"It is Prime Number\")\n",
    "else:\n",
    "    print(\"It is Not a Prime number\")\n"
   ]
  },
  {
   "cell_type": "code",
   "execution_count": 14,
   "id": "99ebfcdd",
   "metadata": {},
   "outputs": [
    {
     "name": "stdout",
     "output_type": "stream",
     "text": [
      "enter a : 1\n",
      "enter b : 10\n",
      "2 4 6 8 10 \n",
      "  1 \n",
      "  3 \n",
      "  5 \n",
      "  7 \n",
      "  9 "
     ]
    }
   ],
   "source": [
    "# To print Even and Odd number from 0 to 10\n",
    "a=int(input(\"enter a : \"))\n",
    "b=int(input(\"enter b : \"))\n",
    "for i in range(a,b+1):\n",
    "    if(i%2==0):\n",
    "        print(i,end=\" \")\n",
    "\n",
    "for i in range(a,b+1):\n",
    "    if(i%2!=0):\n",
    "        print(\"\\n \",i,end=\" \")"
   ]
  },
  {
   "cell_type": "code",
   "execution_count": 26,
   "id": "fa8e661a",
   "metadata": {},
   "outputs": [
    {
     "name": "stdout",
     "output_type": "stream",
     "text": [
      "enter a : 1\n",
      "enter b : 10\n",
      "\n",
      " even numbers are: 2 4 6 8 10 \n",
      " odd numbers are: 1 3 5 7 9 "
     ]
    }
   ],
   "source": [
    "a=int(input(\"enter a : \"))\n",
    "b=int(input(\"enter b : \"))\n",
    "print(\"\\n even numbers are:\",end=\" \")\n",
    "for i in range(a,b+1):\n",
    "    if(i%2==0):\n",
    "        print(i,end=\" \")\n",
    "print(\"\\n odd numbers are:\",end=\" \")\n",
    "for i in range(a,b+1):\n",
    "    if(i%2!=0):\n",
    "        print(i,end=\" \")\n",
    "        "
   ]
  },
  {
   "cell_type": "code",
   "execution_count": null,
   "id": "d2a63c78",
   "metadata": {},
   "outputs": [],
   "source": []
  },
  {
   "cell_type": "code",
   "execution_count": null,
   "id": "d49940f9",
   "metadata": {},
   "outputs": [],
   "source": []
  }
 ],
 "metadata": {
  "kernelspec": {
   "display_name": "Python 3 (ipykernel)",
   "language": "python",
   "name": "python3"
  },
  "language_info": {
   "codemirror_mode": {
    "name": "ipython",
    "version": 3
   },
   "file_extension": ".py",
   "mimetype": "text/x-python",
   "name": "python",
   "nbconvert_exporter": "python",
   "pygments_lexer": "ipython3",
   "version": "3.9.7"
  }
 },
 "nbformat": 4,
 "nbformat_minor": 5
}

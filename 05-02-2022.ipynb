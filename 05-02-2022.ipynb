{
 "cells": [
  {
   "cell_type": "markdown",
   "id": "db70d65f",
   "metadata": {},
   "source": [
    "# Day 5 session\n",
    "- 05-02-2022\n",
    "\n"
   ]
  },
  {
   "cell_type": "markdown",
   "id": "cd43ca7f",
   "metadata": {},
   "source": [
    "# File Handling\n",
    "- File: file is a named location or memory used to store realative information.\n",
    "    - .csv,.py,.html,.txt,.ipynb,mp4.\n",
    "- File handling: it allows user to handle.\n",
    "- compared to other languages programming languages file handling is easy in python.\n",
    "- Read and Write files along with the otherfiles handle options to work on file\n",
    "- steps of the handling\n",
    "    - open file\n",
    "    - Doing operations.\n",
    "    - Close a file.\n",
    "- Open function()\n",
    "    - we use open fun() in python to open the file in read and write options.\n",
    "    - TO return a object we use in open function() along 2 argeuments that accepts the filename and mode.wheather read or write\n",
    "    - syntax:: open (filename.mode)\n",
    "            \n",
    "- Mode are three types to open a file.\n",
    "    - Read()-->'r'-->to read a file.\n",
    "        - file_varaible.read(size).\n",
    "    - Write()-->'w'-->to write a file.\n",
    "        - File_variable.write(data).\n",
    "    - apend()-->'a'-->to add a information\n",
    "        - file-variable.append(data).\n",
    "- By default the file will opens as 'r' mode.\n",
    "- Close()\n",
    "    - it is used to close a file.\n",
    "    - every time you have to close a file at end of the operations.otherwise the changes will not be applicable."
   ]
  },
  {
   "cell_type": "code",
   "execution_count": 14,
   "id": "8ef87d00",
   "metadata": {},
   "outputs": [
    {
     "name": "stdout",
     "output_type": "stream",
     "text": [
      "sucessfully opened \n"
     ]
    }
   ],
   "source": [
    "file1=open(\"data.txt\",'r')\n",
    "if file1:\n",
    "    print(\"sucessfully opened \")\n",
    "else:\n",
    "    print(\"not opened\")"
   ]
  },
  {
   "cell_type": "code",
   "execution_count": 13,
   "id": "098e77e6",
   "metadata": {},
   "outputs": [
    {
     "name": "stdout",
     "output_type": "stream",
     "text": [
      "Hai this is Yaswanth Kumar. \n"
     ]
    }
   ],
   "source": [
    "# read\n",
    "file1=open(\"data.txt\")\n",
    "print(file1.read())\n",
    "file1.close()"
   ]
  },
  {
   "cell_type": "code",
   "execution_count": 11,
   "id": "919071d6",
   "metadata": {},
   "outputs": [
    {
     "name": "stdout",
     "output_type": "stream",
     "text": [
      "Hai this is Yaswanth Kumar. \n"
     ]
    }
   ],
   "source": [
    "# using with keyword automatically file will be \n",
    "with open(\"data.txt\")as file1:\n",
    "    new=file1.read()\n",
    "    print(new)\n",
    "    "
   ]
  },
  {
   "cell_type": "code",
   "execution_count": 3,
   "id": "cd411172",
   "metadata": {},
   "outputs": [
    {
     "name": "stdout",
     "output_type": "stream",
     "text": [
      "18\n"
     ]
    }
   ],
   "source": [
    "file1=open(\"data1.txt\",'w')\n",
    "new=file1.write(\"python programming\")\n",
    "print(new)\n",
    "file1.close()"
   ]
  },
  {
   "cell_type": "markdown",
   "id": "9ae40c52",
   "metadata": {},
   "source": [
    "# File Handling methods\n",
    "- open()\n",
    "- read()\n",
    "- write()\n",
    "- close()\n",
    "- readline()\n",
    "- writeline()\n",
    "- seek()\n",
    "- tell()\n",
    "\n",
    "\n",
    "\n",
    "#### Types of mode:\n",
    "    - read()--->'r'\n",
    "    - write()--->'w'\n",
    "    - append()--->'a'"
   ]
  },
  {
   "cell_type": "code",
   "execution_count": 5,
   "id": "1c18e033",
   "metadata": {},
   "outputs": [],
   "source": [
    "file1=open('data.txt')"
   ]
  },
  {
   "cell_type": "code",
   "execution_count": 6,
   "id": "3a5c7eca",
   "metadata": {},
   "outputs": [
    {
     "name": "stdout",
     "output_type": "stream",
     "text": [
      "Hai th\n"
     ]
    }
   ],
   "source": [
    "info=file1.read(6)\n",
    "print(info)\n"
   ]
  },
  {
   "cell_type": "code",
   "execution_count": 7,
   "id": "bf7920c6",
   "metadata": {},
   "outputs": [
    {
     "name": "stdout",
     "output_type": "stream",
     "text": [
      "is is Yaswanth Kumar.\n",
      "\n"
     ]
    }
   ],
   "source": [
    "d=file1.read()\n",
    "print(d)\n"
   ]
  },
  {
   "cell_type": "code",
   "execution_count": 8,
   "id": "4829b3a4",
   "metadata": {},
   "outputs": [],
   "source": [
    "file1.close()"
   ]
  },
  {
   "cell_type": "code",
   "execution_count": 9,
   "id": "a617ce4c",
   "metadata": {},
   "outputs": [],
   "source": [
    "# Write mode()\n",
    "# it is used to wite something in the file.\n",
    "# if file is not thir directory.\n",
    "# the file will be created and data will be written in that file\n"
   ]
  },
  {
   "cell_type": "code",
   "execution_count": 16,
   "id": "1320c510",
   "metadata": {},
   "outputs": [],
   "source": [
    "f0=open('data.txt','w')"
   ]
  },
  {
   "cell_type": "code",
   "execution_count": 4,
   "id": "9e5fc10c",
   "metadata": {},
   "outputs": [
    {
     "name": "stdout",
     "output_type": "stream",
     "text": [
      "<_io.TextIOWrapper name='data.txt' mode='w' encoding='cp1252'>\n"
     ]
    }
   ],
   "source": [
    "f0.write(\"gud bye\")\n",
    "print(f0)"
   ]
  },
  {
   "cell_type": "code",
   "execution_count": 17,
   "id": "283e0e91",
   "metadata": {},
   "outputs": [
    {
     "data": {
      "text/plain": [
       "24"
      ]
     },
     "execution_count": 17,
     "metadata": {},
     "output_type": "execute_result"
    }
   ],
   "source": [
    "file1=open(\"data.txt\",'a')\n",
    "f0.write(\"ahfhshdfuyaj agcfdsaufho\")"
   ]
  },
  {
   "cell_type": "code",
   "execution_count": 18,
   "id": "b9848854",
   "metadata": {},
   "outputs": [
    {
     "name": "stdout",
     "output_type": "stream",
     "text": [
      "<_io.TextIOWrapper name='data.txt' mode='a' encoding='cp1252'>\n"
     ]
    }
   ],
   "source": [
    "print(file1)"
   ]
  },
  {
   "cell_type": "code",
   "execution_count": 19,
   "id": "237bb176",
   "metadata": {},
   "outputs": [
    {
     "name": "stdout",
     "output_type": "stream",
     "text": [
      "\n",
      "\n"
     ]
    }
   ],
   "source": [
    "file1=open(\"data.txt\",'r')\n",
    "s=file1.readline()\n",
    "print(s)\n",
    "t=file1.readline()\n",
    "print(t)"
   ]
  },
  {
   "cell_type": "code",
   "execution_count": null,
   "id": "e4445150",
   "metadata": {},
   "outputs": [],
   "source": []
  },
  {
   "cell_type": "code",
   "execution_count": 20,
   "id": "0d69d29c",
   "metadata": {},
   "outputs": [
    {
     "name": "stdout",
     "output_type": "stream",
     "text": [
      "13\n"
     ]
    }
   ],
   "source": [
    "file1=open('data.txt','a')\n",
    "f0=file1.write('this is class')\n",
    "print(f0)"
   ]
  },
  {
   "cell_type": "code",
   "execution_count": 9,
   "id": "403716be",
   "metadata": {},
   "outputs": [
    {
     "name": "stdout",
     "output_type": "stream",
     "text": [
      "number of line in the file: 1\n"
     ]
    }
   ],
   "source": [
    "with open(\"data.txt\",'r')as file1:\n",
    "    no_of_lines=file1.readlines()\n",
    "    print(\"number of line in the file:\",len(no_of_lines))\n",
    "    "
   ]
  },
  {
   "cell_type": "code",
   "execution_count": 10,
   "id": "d07a5f57",
   "metadata": {},
   "outputs": [
    {
     "name": "stdout",
     "output_type": "stream",
     "text": [
      "number of line in the file: 13\n"
     ]
    }
   ],
   "source": [
    "with open(\"data.txt\",'r')as file1:\n",
    "    no_of_lines=file1.readline()\n",
    "    print(\"number of line in the file:\",len(no_of_lines))\n",
    "    "
   ]
  },
  {
   "cell_type": "code",
   "execution_count": 13,
   "id": "06b4a63a",
   "metadata": {},
   "outputs": [
    {
     "name": "stdout",
     "output_type": "stream",
     "text": [
      "number of words are :  11\n"
     ]
    }
   ],
   "source": [
    "# no of word in the given file\n",
    "words=0\n",
    "for line in no_of_lines:\n",
    "    words_list=line.split()\n",
    "    words+=len(words_list)\n",
    "print(\"number of words are : \",words)"
   ]
  },
  {
   "cell_type": "code",
   "execution_count": null,
   "id": "6d984474",
   "metadata": {},
   "outputs": [],
   "source": []
  }
 ],
 "metadata": {
  "kernelspec": {
   "display_name": "Python 3 (ipykernel)",
   "language": "python",
   "name": "python3"
  },
  "language_info": {
   "codemirror_mode": {
    "name": "ipython",
    "version": 3
   },
   "file_extension": ".py",
   "mimetype": "text/x-python",
   "name": "python",
   "nbconvert_exporter": "python",
   "pygments_lexer": "ipython3",
   "version": "3.9.7"
  }
 },
 "nbformat": 4,
 "nbformat_minor": 5
}

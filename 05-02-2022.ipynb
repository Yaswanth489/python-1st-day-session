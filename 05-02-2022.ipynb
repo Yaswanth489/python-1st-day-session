{
 "cells": [
  {
   "cell_type": "markdown",
   "id": "db70d65f",
   "metadata": {},
   "source": [
    "# Day 5 session\n",
    "- 05-02-2022\n",
    "\n"
   ]
  },
  {
   "cell_type": "markdown",
   "id": "cd43ca7f",
   "metadata": {},
   "source": [
    "# File Handling\n",
    "- File: file is a named location or memory used to store realative information.\n",
    "    - .csv,.py,.html,.txt,.ipynb,mp4.\n",
    "- File handling: it allows user to handle.\n",
    "- compared to other languages programming languages file handling is easy in python.\n",
    "- Read and Write files along with the otherfiles handle options to work on file\n",
    "- steps of the handling\n",
    "    - open file\n",
    "    - Doing operations.\n",
    "    - Close a file.\n",
    "- Open function()\n",
    "    - we use open fun() in python to open the file in read and write options.\n",
    "    - TO return a object we use in open function() along 2 argeuments that accepts the filename and mode.wheather read or write\n",
    "    - syntax:: open (filename.mode)\n",
    "            \n",
    "- Mode are three types to open a file.\n",
    "    - Read()-->'r'-->to read a file.\n",
    "        - file_varaible.read(size).\n",
    "    - Write()-->'w'-->to write a file.\n",
    "        - File_variable.write(data).\n",
    "    - apend()-->'a'-->to add a information\n",
    "        - file-variable.append(data).\n",
    "- By default the file will opens as 'r' mode.\n",
    "- Close()\n",
    "    - it is used to close a file.\n",
    "    - every time you have to close a file at end of the operations.otherwise the changes will not be applicable."
   ]
  },
  {
   "cell_type": "code",
   "execution_count": 14,
   "id": "8ef87d00",
   "metadata": {},
   "outputs": [
    {
     "name": "stdout",
     "output_type": "stream",
     "text": [
      "sucessfully opened \n"
     ]
    }
   ],
   "source": [
    "file1=open(\"data.txt\",'r')\n",
    "if file1:\n",
    "    print(\"sucessfully opened \")\n",
    "else:\n",
    "    print(\"not opened\")"
   ]
  },
  {
   "cell_type": "code",
   "execution_count": 13,
   "id": "098e77e6",
   "metadata": {},
   "outputs": [
    {
     "name": "stdout",
     "output_type": "stream",
     "text": [
      "Hai this is Yaswanth Kumar. \n"
     ]
    }
   ],
   "source": [
    "# read\n",
    "file1=open(\"data.txt\")\n",
    "print(file1.read())\n",
    "file1.close()"
   ]
  },
  {
   "cell_type": "code",
   "execution_count": 11,
   "id": "919071d6",
   "metadata": {},
   "outputs": [
    {
     "name": "stdout",
     "output_type": "stream",
     "text": [
      "Hai this is Yaswanth Kumar. \n"
     ]
    }
   ],
   "source": [
    "# using with keyword automatically file will be \n",
    "with open(\"data.txt\")as file1:\n",
    "    new=file1.read()\n",
    "    print(new)\n",
    "    "
   ]
  },
  {
   "cell_type": "code",
   "execution_count": 3,
   "id": "cd411172",
   "metadata": {},
   "outputs": [
    {
     "name": "stdout",
     "output_type": "stream",
     "text": [
      "18\n"
     ]
    }
   ],
   "source": [
    "file1=open(\"data1.txt\",'w')\n",
    "new=file1.write(\"python programming\")\n",
    "print(new)\n",
    "file1.close()"
   ]
  },
  {
   "cell_type": "markdown",
   "id": "9ae40c52",
   "metadata": {},
   "source": [
    "# File Handling methods\n",
    "- open()\n",
    "- read()\n",
    "- write()\n",
    "- close()\n",
    "- readline()\n",
    "- writeline()\n",
    "- seek()\n",
    "- tell()\n",
    "\n",
    "\n",
    "\n",
    "#### Types of mode:\n",
    "    - read()--->'r'\n",
    "    - write()--->'w'\n",
    "    - append()--->'a'"
   ]
  },
  {
   "cell_type": "code",
   "execution_count": 5,
   "id": "1c18e033",
   "metadata": {},
   "outputs": [],
   "source": [
    "file1=open('data.txt')"
   ]
  },
  {
   "cell_type": "code",
   "execution_count": 6,
   "id": "3a5c7eca",
   "metadata": {},
   "outputs": [
    {
     "name": "stdout",
     "output_type": "stream",
     "text": [
      "Hai th\n"
     ]
    }
   ],
   "source": [
    "info=file1.read(6)\n",
    "print(info)\n"
   ]
  },
  {
   "cell_type": "code",
   "execution_count": 7,
   "id": "bf7920c6",
   "metadata": {},
   "outputs": [
    {
     "name": "stdout",
     "output_type": "stream",
     "text": [
      "is is Yaswanth Kumar.\n",
      "\n"
     ]
    }
   ],
   "source": [
    "d=file1.read()\n",
    "print(d)\n"
   ]
  },
  {
   "cell_type": "code",
   "execution_count": 8,
   "id": "4829b3a4",
   "metadata": {},
   "outputs": [],
   "source": [
    "file1.close()"
   ]
  },
  {
   "cell_type": "code",
   "execution_count": 9,
   "id": "a617ce4c",
   "metadata": {},
   "outputs": [],
   "source": [
    "# Write mode()\n",
    "# it is used to wite something in the file.\n",
    "# if file is not thir directory.\n",
    "# the file will be created and data will be written in that file\n"
   ]
  },
  {
   "cell_type": "code",
   "execution_count": 16,
   "id": "1320c510",
   "metadata": {},
   "outputs": [],
   "source": [
    "f0=open('data.txt','w')"
   ]
  },
  {
   "cell_type": "code",
   "execution_count": 4,
   "id": "9e5fc10c",
   "metadata": {},
   "outputs": [
    {
     "name": "stdout",
     "output_type": "stream",
     "text": [
      "<_io.TextIOWrapper name='data.txt' mode='w' encoding='cp1252'>\n"
     ]
    }
   ],
   "source": [
    "f0.write(\"gud bye\")\n",
    "print(f0)"
   ]
  },
  {
   "cell_type": "code",
   "execution_count": 17,
   "id": "283e0e91",
   "metadata": {},
   "outputs": [
    {
     "data": {
      "text/plain": [
       "24"
      ]
     },
     "execution_count": 17,
     "metadata": {},
     "output_type": "execute_result"
    }
   ],
   "source": [
    "file1=open(\"data.txt\",'a')\n",
    "f0.write(\"ahfhshdfuyaj agcfdsaufho\")"
   ]
  },
  {
   "cell_type": "code",
   "execution_count": 18,
   "id": "b9848854",
   "metadata": {},
   "outputs": [
    {
     "name": "stdout",
     "output_type": "stream",
     "text": [
      "<_io.TextIOWrapper name='data.txt' mode='a' encoding='cp1252'>\n"
     ]
    }
   ],
   "source": [
    "print(file1)"
   ]
  },
  {
   "cell_type": "code",
   "execution_count": 19,
   "id": "237bb176",
   "metadata": {},
   "outputs": [
    {
     "name": "stdout",
     "output_type": "stream",
     "text": [
      "\n",
      "\n"
     ]
    }
   ],
   "source": [
    "file1=open(\"data.txt\",'r')\n",
    "s=file1.readline()\n",
    "print(s)\n",
    "t=file1.readline()\n",
    "print(t)"
   ]
  },
  {
   "cell_type": "code",
   "execution_count": null,
   "id": "e4445150",
   "metadata": {},
   "outputs": [],
   "source": []
  },
  {
   "cell_type": "code",
   "execution_count": 20,
   "id": "0d69d29c",
   "metadata": {},
   "outputs": [
    {
     "name": "stdout",
     "output_type": "stream",
     "text": [
      "13\n"
     ]
    }
   ],
   "source": [
    "file1=open('data.txt','a')\n",
    "f0=file1.write('this is class')\n",
    "print(f0)"
   ]
  },
  {
   "cell_type": "code",
   "execution_count": 9,
   "id": "403716be",
   "metadata": {},
   "outputs": [
    {
     "name": "stdout",
     "output_type": "stream",
     "text": [
      "number of line in the file: 1\n"
     ]
    }
   ],
   "source": [
    "with open(\"data.txt\",'r')as file1:\n",
    "    no_of_lines=file1.readlines()\n",
    "    print(\"number of line in the file:\",len(no_of_lines))\n",
    "    "
   ]
  },
  {
   "cell_type": "code",
   "execution_count": 10,
   "id": "d07a5f57",
   "metadata": {},
   "outputs": [
    {
     "name": "stdout",
     "output_type": "stream",
     "text": [
      "number of line in the file: 13\n"
     ]
    }
   ],
   "source": [
    "with open(\"data.txt\",'r')as file1:\n",
    "    no_of_lines=file1.readline()\n",
    "    print(\"number of line in the file:\",len(no_of_lines))\n",
    "    "
   ]
  },
  {
   "cell_type": "code",
   "execution_count": 13,
   "id": "06b4a63a",
   "metadata": {},
   "outputs": [
    {
     "name": "stdout",
     "output_type": "stream",
     "text": [
      "number of words are :  11\n"
     ]
    }
   ],
   "source": [
    "# no of word in the given file\n",
    "words=0\n",
    "for line in no_of_lines:\n",
    "    words_list=line.split()\n",
    "    words+=len(words_list)\n",
    "print(\"number of words are : \",words)"
   ]
  },
  {
   "cell_type": "markdown",
   "id": "1be2a834",
   "metadata": {},
   "source": [
    "# Functions\n",
    "## Built in Functions\n",
    "- Already existed.\n",
    "- ex: print(),input(),len(),int().\n",
    "\n",
    "\n",
    "## User-defined Functions\n",
    "- Which are defined by the user.\n",
    "- Ex: Any user can create the functions."
   ]
  },
  {
   "cell_type": "markdown",
   "id": "9757ac1d",
   "metadata": {},
   "source": [
    "Syntax for functions.\n",
    "def function_name(arguments):#function definition\n",
    "    statements\n",
    "    statements\n",
    "function_name(parameters)# Function calling.\n"
   ]
  },
  {
   "cell_type": "code",
   "execution_count": 2,
   "id": "a0d4b1fa",
   "metadata": {},
   "outputs": [
    {
     "name": "stdout",
     "output_type": "stream",
     "text": [
      "23\n",
      "Odd number\n"
     ]
    }
   ],
   "source": [
    "#even or odd\n",
    "n=int(input())\n",
    "if(n%2==0):\n",
    "    print(\"Even number\")\n",
    "else:\n",
    "    print(\"Odd number\")"
   ]
  },
  {
   "cell_type": "code",
   "execution_count": 6,
   "id": "2a380554",
   "metadata": {},
   "outputs": [
    {
     "name": "stdout",
     "output_type": "stream",
     "text": [
      "30\n",
      "Even number\n"
     ]
    }
   ],
   "source": [
    "def even_odd(x):\n",
    "    if x%2==0:\n",
    "        print(\"Even number\")\n",
    "    else:\n",
    "        print(\"Odd number\")\n",
    "even_odd(int(input()))"
   ]
  },
  {
   "cell_type": "code",
   "execution_count": 20,
   "id": "20a7b9d2",
   "metadata": {},
   "outputs": [
    {
     "name": "stdout",
     "output_type": "stream",
     "text": [
      "3\n",
      "Prime number\n"
     ]
    }
   ],
   "source": [
    "# prime number\n",
    "def prime_check(x):\n",
    "    count=0\n",
    "    for i in range(1,x+1):\n",
    "        if x%2==0:\n",
    "            count+=1\n",
    "    if count==0:       \n",
    "        print(\"Prime number\")\n",
    "    else:\n",
    "        print(\"Not a prime number\")\n",
    "prime_check(int(input()))"
   ]
  },
  {
   "cell_type": "code",
   "execution_count": 22,
   "id": "af240833",
   "metadata": {},
   "outputs": [
    {
     "name": "stdout",
     "output_type": "stream",
     "text": [
      "29\n"
     ]
    },
    {
     "data": {
      "text/plain": [
       "True"
      ]
     },
     "execution_count": 22,
     "metadata": {},
     "output_type": "execute_result"
    }
   ],
   "source": [
    "# is prime\n",
    "def is_prime(x):\n",
    "    for i in range(2,x+1):\n",
    "        if x%2==0:\n",
    "            return False\n",
    "        return True\n",
    "is_prime(int(input()))"
   ]
  },
  {
   "cell_type": "code",
   "execution_count": 30,
   "id": "0736b976",
   "metadata": {},
   "outputs": [
    {
     "name": "stdout",
     "output_type": "stream",
     "text": [
      "55\n",
      "sum of the factors :  17\n",
      "not perfect\n"
     ]
    }
   ],
   "source": [
    "# Perfect number:: given numbert is equal to the sum of the factors of that\n",
    "# 6 --->1+2+3=6(perfect number)\n",
    "# 8 --->1+2+4=7(not a perfect number)\n",
    "def perfect_num(a):\n",
    "    fact_sum=0\n",
    "    for i in range(1,a):\n",
    "        if(a%i==0):\n",
    "            fact_sum=fact_sum+i\n",
    "    print(\"sum of the factors : \",fact_sum)\n",
    "    if a==fact_sum:\n",
    "        print(\"perfect number\")\n",
    "    else:\n",
    "        print(\"not perfect\")\n",
    "perfect_num(int(input()))"
   ]
  },
  {
   "cell_type": "markdown",
   "id": "987f8cf2",
   "metadata": {},
   "source": [
    "- Comprehensions\n",
    "- Iterators and generators.\n",
    "- Functional programing.\n",
    "## Comprehensions\n",
    "- It is a program of creating new sequence from existing sequence.\n",
    "- Advantages::less code,easy to understand\n",
    "### Types:\n",
    "- List Comprehensions.\n",
    "- Dictionary Comprehensions.\n",
    "- Set Comprehensions.\n",
    "- Generator Comprehensions.\n",
    "### List comprehensions\n",
    "- Easy way to create,more efficIent, and also run faster.\n",
    "- Syntax::[expression for the item in list if condition]\n"
   ]
  },
  {
   "cell_type": "code",
   "execution_count": null,
   "id": "1ff4a3d5",
   "metadata": {},
   "outputs": [],
   "source": [
    "# Normal list syntax:\n",
    "for item in list:\n",
    "    if condition:\n",
    "        print(\"\")\n",
    "        "
   ]
  },
  {
   "cell_type": "code",
   "execution_count": 40,
   "id": "57dab484",
   "metadata": {},
   "outputs": [
    {
     "name": "stdout",
     "output_type": "stream",
     "text": [
      "1 2 3 4 5 6 7 8 9 10 "
     ]
    }
   ],
   "source": [
    "for i in range(1,11):\n",
    "    print(i,end=\" \")\n",
    "    "
   ]
  },
  {
   "cell_type": "code",
   "execution_count": 34,
   "id": "96d623c0",
   "metadata": {},
   "outputs": [
    {
     "name": "stdout",
     "output_type": "stream",
     "text": [
      "[1, 2, 3, 4, 5, 6, 7, 8, 9, 10]\n"
     ]
    }
   ],
   "source": [
    "li=[]\n",
    "for i in range(1,11):\n",
    "    li.append(i)\n",
    "print(li)"
   ]
  },
  {
   "cell_type": "code",
   "execution_count": 36,
   "id": "10ed6bd2",
   "metadata": {},
   "outputs": [
    {
     "name": "stdout",
     "output_type": "stream",
     "text": [
      "[1, 2, 3, 4, 5, 6, 7, 8, 9, 10]\n"
     ]
    }
   ],
   "source": [
    "li=[i for i in range(1,11)]# list Comprehensions\n",
    "print(li)"
   ]
  },
  {
   "cell_type": "code",
   "execution_count": 37,
   "id": "0b007b82",
   "metadata": {},
   "outputs": [
    {
     "name": "stdout",
     "output_type": "stream",
     "text": [
      "[5, 10, 15, 20, 25, 30, 35, 40, 45, 50]\n"
     ]
    }
   ],
   "source": [
    "li=[i*5 for i in range(1,11)]# list Comprehensions\n",
    "print(li)"
   ]
  },
  {
   "cell_type": "code",
   "execution_count": 38,
   "id": "b177b0b3",
   "metadata": {},
   "outputs": [
    {
     "name": "stdout",
     "output_type": "stream",
     "text": [
      "[2, 4, 6, 8, 10]\n"
     ]
    }
   ],
   "source": [
    "li=[i for i in range(1,11) if(i%2==0)]\n",
    "print(li)"
   ]
  },
  {
   "cell_type": "code",
   "execution_count": 39,
   "id": "02825261",
   "metadata": {},
   "outputs": [
    {
     "name": "stdout",
     "output_type": "stream",
     "text": [
      "['odd', 2, 'odd', 4, 'odd', 6, 'odd', 8, 'odd', 10]\n"
     ]
    }
   ],
   "source": [
    "li=([i if i%2==0 else \"odd\" for i in range(1,11)])\n",
    "print(li)"
   ]
  },
  {
   "cell_type": "code",
   "execution_count": 41,
   "id": "0fe048ae",
   "metadata": {},
   "outputs": [
    {
     "name": "stdout",
     "output_type": "stream",
     "text": [
      "[(1, 'odd'), (2, 'even'), (3, 'odd'), (4, 'even'), (5, 'odd'), (6, 'even'), (7, 'odd'), (8, 'even'), (9, 'odd'), (10, 'even')]\n"
     ]
    }
   ],
   "source": [
    "print([(i,\"even\")if i%2==0 else (i,\"odd\")for i in range(1,11)])\n"
   ]
  },
  {
   "cell_type": "code",
   "execution_count": 43,
   "id": "f4a133a1",
   "metadata": {},
   "outputs": [
    {
     "name": "stdout",
     "output_type": "stream",
     "text": [
      "['stay', 'home', 'stay', 'safe']\n"
     ]
    }
   ],
   "source": [
    "a=['stay home','stay safe']# list\n",
    "li=[]\n",
    "for i in a:\n",
    "    for j in i.split():\n",
    "        li.append(j)\n",
    "print(li)"
   ]
  },
  {
   "cell_type": "code",
   "execution_count": 44,
   "id": "8efef061",
   "metadata": {},
   "outputs": [
    {
     "name": "stdout",
     "output_type": "stream",
     "text": [
      "['stay', 'home', 'stay', 'safe']\n"
     ]
    }
   ],
   "source": [
    "x=[j for i in a for j in i.split()]\n",
    "print(x)"
   ]
  },
  {
   "cell_type": "code",
   "execution_count": 45,
   "id": "91d8d534",
   "metadata": {},
   "outputs": [
    {
     "data": {
      "text/plain": [
       "[[1, 2, 3, 4, 5, 6, 7, 8, 9, 10],\n",
       " [2, 4, 6, 8, 10, 12, 14, 16, 18, 20],\n",
       " [3, 6, 9, 12, 15, 18, 21, 24, 27, 30],\n",
       " [4, 8, 12, 16, 20, 24, 28, 32, 36, 40],\n",
       " [5, 10, 15, 20, 25, 30, 35, 40, 45, 50],\n",
       " [6, 12, 18, 24, 30, 36, 42, 48, 54, 60],\n",
       " [7, 14, 21, 28, 35, 42, 49, 56, 63, 70],\n",
       " [8, 16, 24, 32, 40, 48, 56, 64, 72, 80],\n",
       " [9, 18, 27, 36, 45, 54, 63, 72, 81, 90],\n",
       " [10, 20, 30, 40, 50, 60, 70, 80, 90, 100]]"
      ]
     },
     "execution_count": 45,
     "metadata": {},
     "output_type": "execute_result"
    }
   ],
   "source": [
    "a=[[i*j for i in range(1,11)] for j in range(1,11)]\n",
    "a"
   ]
  },
  {
   "cell_type": "code",
   "execution_count": 46,
   "id": "027bdcca",
   "metadata": {},
   "outputs": [
    {
     "name": "stdout",
     "output_type": "stream",
     "text": [
      "{'n130057': 'sai', 'N374880': 'kumar', 'N130039': 'Mr.Manikanta'}\n"
     ]
    }
   ],
   "source": [
    "# Dictionay Comprehensions\n",
    "id_no=['n130057','N374880','N130039']\n",
    "names=['sai','kumar','Mr.Manikanta']\n",
    "c={}\n",
    "for(key,value) in zip(id_no,names):\n",
    "    c[key]=value\n",
    "print(c)"
   ]
  },
  {
   "cell_type": "code",
   "execution_count": 47,
   "id": "c5ae66cb",
   "metadata": {},
   "outputs": [
    {
     "data": {
      "text/plain": [
       "{1: 2, 2: 4, 3: 6, 4: 8, 5: 10, 6: 12, 7: 14, 8: 16, 9: 18, 10: 20}"
      ]
     },
     "execution_count": 47,
     "metadata": {},
     "output_type": "execute_result"
    }
   ],
   "source": [
    "d={i:i*2 for i in range(1,11)}\n",
    "d\n"
   ]
  },
  {
   "cell_type": "code",
   "execution_count": 49,
   "id": "53326ead",
   "metadata": {},
   "outputs": [
    {
     "data": {
      "text/plain": [
       "{'o': 3, 'p': 3, 'i': 1, 'c': 2}"
      ]
     },
     "execution_count": 49,
     "metadata": {},
     "output_type": "execute_result"
    }
   ],
   "source": [
    "li=['o','o','o','p','p','p','i','c','c']\n",
    "{i:li.count(i) for i in li}"
   ]
  },
  {
   "cell_type": "code",
   "execution_count": 53,
   "id": "cf5a921a",
   "metadata": {},
   "outputs": [
    {
     "data": {
      "text/plain": [
       "{0: 'A',\n",
       " 1: 'B',\n",
       " 2: 'C',\n",
       " 3: 'D',\n",
       " 4: 'E',\n",
       " 5: 'F',\n",
       " 6: 'G',\n",
       " 7: 'H',\n",
       " 8: 'I',\n",
       " 9: 'J',\n",
       " 10: 'K',\n",
       " 11: 'L',\n",
       " 12: 'M',\n",
       " 13: 'N',\n",
       " 14: 'O',\n",
       " 15: 'P',\n",
       " 16: 'Q',\n",
       " 17: 'R',\n",
       " 18: 'S',\n",
       " 19: 'T',\n",
       " 20: 'U',\n",
       " 21: 'V',\n",
       " 22: 'W',\n",
       " 23: 'X',\n",
       " 24: 'Y',\n",
       " 25: 'Z'}"
      ]
     },
     "execution_count": 53,
     "metadata": {},
     "output_type": "execute_result"
    }
   ],
   "source": [
    "# {0:A,1:B,2:C,3:D}\n",
    "d={i:chr(65+i)for i in range(26)}\n",
    "d"
   ]
  },
  {
   "cell_type": "code",
   "execution_count": 54,
   "id": "d0ec30f4",
   "metadata": {},
   "outputs": [
    {
     "data": {
      "text/plain": [
       "{0: 'a',\n",
       " 1: 'b',\n",
       " 2: 'c',\n",
       " 3: 'd',\n",
       " 4: 'e',\n",
       " 5: 'f',\n",
       " 6: 'g',\n",
       " 7: 'h',\n",
       " 8: 'i',\n",
       " 9: 'j',\n",
       " 10: 'k',\n",
       " 11: 'l',\n",
       " 12: 'm',\n",
       " 13: 'n',\n",
       " 14: 'o',\n",
       " 15: 'p',\n",
       " 16: 'q',\n",
       " 17: 'r',\n",
       " 18: 's',\n",
       " 19: 't',\n",
       " 20: 'u',\n",
       " 21: 'v',\n",
       " 22: 'w',\n",
       " 23: 'x',\n",
       " 24: 'y',\n",
       " 25: 'z'}"
      ]
     },
     "execution_count": 54,
     "metadata": {},
     "output_type": "execute_result"
    }
   ],
   "source": [
    "# {0:a,1:b,2:c,3:d}\n",
    "d={i:chr(97+i)for i in range(26)}\n",
    "d"
   ]
  },
  {
   "cell_type": "code",
   "execution_count": 55,
   "id": "b9e68515",
   "metadata": {},
   "outputs": [
    {
     "data": {
      "text/plain": [
       "{'siva': 4, 'prasad': 6, 'tavish': 6}"
      ]
     },
     "execution_count": 55,
     "metadata": {},
     "output_type": "execute_result"
    }
   ],
   "source": [
    "names=['siva','prasad','tavish']\n",
    "d={i:len(i)for i in names}\n",
    "d\n"
   ]
  },
  {
   "cell_type": "code",
   "execution_count": 57,
   "id": "3a83d221",
   "metadata": {},
   "outputs": [
    {
     "data": {
      "text/plain": [
       "{6, 12, 18, 24, 30}"
      ]
     },
     "execution_count": 57,
     "metadata": {},
     "output_type": "execute_result"
    }
   ],
   "source": [
    "# Set Comprehensions\n",
    "s={i*3 for i in range(1,11)if i%2==0}\n",
    "s"
   ]
  },
  {
   "cell_type": "code",
   "execution_count": 58,
   "id": "e9075508",
   "metadata": {},
   "outputs": [
    {
     "data": {
      "text/plain": [
       "{6, 12, 24}"
      ]
     },
     "execution_count": 58,
     "metadata": {},
     "output_type": "execute_result"
    }
   ],
   "source": [
    "# Set Comprehensions\n",
    "s={i*3 for i in [2,2,3,4,5,7,5,8,]if i%2==0}\n",
    "s"
   ]
  },
  {
   "cell_type": "code",
   "execution_count": 1,
   "id": "9f0638dc",
   "metadata": {},
   "outputs": [
    {
     "data": {
      "text/plain": [
       "<generator object <genexpr> at 0x0000002210234D60>"
      ]
     },
     "execution_count": 1,
     "metadata": {},
     "output_type": "execute_result"
    }
   ],
   "source": [
    "# get \n",
    "c=(i*3 for i in range(5))\n",
    "c"
   ]
  },
  {
   "cell_type": "markdown",
   "id": "b575c2d5",
   "metadata": {},
   "source": [
    "## iterators and generators\n",
    "- iterator:iter is an object in python it contains no elements\n",
    "- 2 methods\n",
    "    - iter\n",
    "    - next\n",
    "- list,set,tuple,dict these all are iterable objects."
   ]
  },
  {
   "cell_type": "code",
   "execution_count": 60,
   "id": "39ccff93",
   "metadata": {},
   "outputs": [
    {
     "name": "stdout",
     "output_type": "stream",
     "text": [
      "p\n",
      "y\n",
      "t\n",
      "h\n",
      "o\n",
      "n\n"
     ]
    }
   ],
   "source": [
    "a=\"python\"\n",
    "for i in a:\n",
    "    print(i)"
   ]
  },
  {
   "cell_type": "code",
   "execution_count": 61,
   "id": "b167da0b",
   "metadata": {},
   "outputs": [
    {
     "name": "stdout",
     "output_type": "stream",
     "text": [
      "<str_iterator object at 0x0000005805D43EB0>\n",
      "p\n",
      "y\n",
      "t\n"
     ]
    }
   ],
   "source": [
    "s=iter('python')\n",
    "print(s)\n",
    "print(next(s))\n",
    "print(next(s))\n",
    "print(next(s))\n"
   ]
  },
  {
   "cell_type": "markdown",
   "id": "c005cb13",
   "metadata": {},
   "source": [
    "## Generators \n",
    "- generators can be used to either functions or comprehensions\n",
    "- it returns a iterator or objects\n",
    "- in generators 'Yield' can be used in place of return\n"
   ]
  },
  {
   "cell_type": "code",
   "execution_count": 62,
   "id": "b80024ed",
   "metadata": {},
   "outputs": [
    {
     "data": {
      "text/plain": [
       "'e'"
      ]
     },
     "execution_count": 62,
     "metadata": {},
     "output_type": "execute_result"
    }
   ],
   "source": [
    "def python():\n",
    "    return 'e'\n",
    "    print('place')\n",
    "python()"
   ]
  },
  {
   "cell_type": "markdown",
   "id": "c24d2298",
   "metadata": {},
   "source": [
    "# pending"
   ]
  },
  {
   "cell_type": "code",
   "execution_count": 3,
   "id": "e628a47f",
   "metadata": {},
   "outputs": [
    {
     "name": "stdout",
     "output_type": "stream",
     "text": [
      "mango\n",
      "program\n",
      "sdc\n"
     ]
    }
   ],
   "source": [
    "def python():\n",
    "    yield 'mango'\n",
    "    yield 'program'\n",
    "    yield 'sdc'\n",
    "for ch in python():\n",
    "    print(ch)\n",
    "    "
   ]
  },
  {
   "cell_type": "markdown",
   "id": "4fba7f09",
   "metadata": {},
   "source": [
    "#### Functional programming\n",
    "- Lambda\n",
    "- Map\n",
    "- Filter\n",
    "- Reduce"
   ]
  },
  {
   "cell_type": "markdown",
   "id": "14ec160c",
   "metadata": {},
   "source": [
    "## Lambda\n",
    "- anonymous function or single line function.\n",
    "- sibngle expression,no of arguments.\n",
    "- syntax:: lambda arguments:expression.\n",
    "    "
   ]
  },
  {
   "cell_type": "code",
   "execution_count": 63,
   "id": "8c6d16e3",
   "metadata": {},
   "outputs": [
    {
     "data": {
      "text/plain": [
       "5"
      ]
     },
     "execution_count": 63,
     "metadata": {},
     "output_type": "execute_result"
    }
   ],
   "source": [
    "def add(a,b):\n",
    "    return a+b\n",
    "add(2,3)\n"
   ]
  },
  {
   "cell_type": "code",
   "execution_count": 64,
   "id": "5a5a1708",
   "metadata": {},
   "outputs": [
    {
     "name": "stdout",
     "output_type": "stream",
     "text": [
      "9\n"
     ]
    }
   ],
   "source": [
    "b=lambda a,b:a+b\n",
    "print(b(4,5))"
   ]
  },
  {
   "cell_type": "markdown",
   "id": "31b5881f",
   "metadata": {},
   "source": [
    "## Map\n",
    "- Syntax: map(function.iterable)"
   ]
  },
  {
   "cell_type": "code",
   "execution_count": 65,
   "id": "12e21c9d",
   "metadata": {},
   "outputs": [
    {
     "data": {
      "text/plain": [
       "{2, 4, 6, 8, 10, 12, 14, 16}"
      ]
     },
     "execution_count": 65,
     "metadata": {},
     "output_type": "execute_result"
    }
   ],
   "source": [
    "s=set(map(lambda i:i*2,[1,2,3,4,5,6,7,8]))\n",
    "s"
   ]
  },
  {
   "cell_type": "code",
   "execution_count": 66,
   "id": "e7138cc5",
   "metadata": {},
   "outputs": [],
   "source": [
    "def mul(i):\n",
    "    return i*3"
   ]
  },
  {
   "cell_type": "code",
   "execution_count": 68,
   "id": "2cd9f266",
   "metadata": {},
   "outputs": [
    {
     "data": {
      "text/plain": [
       "[6, 9, 12, 15, 18, 21, 24]"
      ]
     },
     "execution_count": 68,
     "metadata": {},
     "output_type": "execute_result"
    }
   ],
   "source": [
    "li=list(map(mul,[2,3,4,5,6,7,8]))\n",
    "li"
   ]
  },
  {
   "cell_type": "markdown",
   "id": "30ab8025",
   "metadata": {},
   "source": [
    "## Filter\n",
    "- syntax:filter(function,iterable)\n",
    "- map takes all objects in a list and allows you to apply a funtion to it.\n",
    "- filter takes all objects in a list and it runs that throught a function to create a new with all objects\n",
    "\n"
   ]
  },
  {
   "cell_type": "code",
   "execution_count": 5,
   "id": "9ac3fe06",
   "metadata": {},
   "outputs": [],
   "source": [
    "nums=[34,56,78,12,13,24,25]\n",
    "\n",
    "def lower_fun(a):\n",
    "    if a<=60:\n",
    "        return True\n",
    "    else:\n",
    "        return False"
   ]
  },
  {
   "cell_type": "code",
   "execution_count": 6,
   "id": "a8e663fb",
   "metadata": {},
   "outputs": [
    {
     "name": "stdout",
     "output_type": "stream",
     "text": [
      "[34, 56, 12, 13, 24, 25]\n"
     ]
    }
   ],
   "source": [
    "a=list(filter((lower_fun),nums))\n",
    "print(a)\n",
    "#for i in a:\n",
    "#    print(i,end=\" \")"
   ]
  },
  {
   "cell_type": "code",
   "execution_count": 7,
   "id": "0a28d00d",
   "metadata": {},
   "outputs": [
    {
     "name": "stdout",
     "output_type": "stream",
     "text": [
      "[34, 56, 78]\n"
     ]
    }
   ],
   "source": [
    "#filter with lambda\n",
    "li=list(filter(lambda x:x>30,nums))\n",
    "print(li\n",
    "\n",
    ")"
   ]
  },
  {
   "cell_type": "markdown",
   "id": "522b963d",
   "metadata": {},
   "source": [
    "\n",
    "# Reduce\n",
    "\n",
    "- it return single value\n",
    "- reduce is the one of method of function tool(it returns sum of all elements in reduce) -from functool we import reduce syntax:reduce(funtion,iterble)\n",
    "\n",
    " \n",
    "\n"
   ]
  },
  {
   "cell_type": "code",
   "execution_count": null,
   "id": "43bc4e5e",
   "metadata": {},
   "outputs": [],
   "source": []
  },
  {
   "cell_type": "code",
   "execution_count": null,
   "id": "870aa150",
   "metadata": {},
   "outputs": [],
   "source": []
  }
 ],
 "metadata": {
  "kernelspec": {
   "display_name": "Python 3 (ipykernel)",
   "language": "python",
   "name": "python3"
  },
  "language_info": {
   "codemirror_mode": {
    "name": "ipython",
    "version": 3
   },
   "file_extension": ".py",
   "mimetype": "text/x-python",
   "name": "python",
   "nbconvert_exporter": "python",
   "pygments_lexer": "ipython3",
   "version": "3.9.7"
  }
 },
 "nbformat": 4,
 "nbformat_minor": 5
}

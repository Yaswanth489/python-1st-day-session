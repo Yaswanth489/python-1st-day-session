{
 "cells": [
  {
   "cell_type": "code",
   "execution_count": 2,
   "id": "2794df45",
   "metadata": {},
   "outputs": [
    {
     "name": "stdout",
     "output_type": "stream",
     "text": [
      "hai welcome\n"
     ]
    }
   ],
   "source": [
    "print(\"hai welcome\")"
   ]
  },
  {
   "cell_type": "markdown",
   "id": "611d7dd2",
   "metadata": {},
   "source": [
    "# Hai welcome\n",
    "## hai welcome\n",
    "### hai welcome\n",
    "#### hai welcome\n",
    "##### hai welcome\n",
    "###### hai welcome"
   ]
  },
  {
   "cell_type": "markdown",
   "id": "a716bd94",
   "metadata": {},
   "source": [
    "*hai*"
   ]
  },
  {
   "cell_type": "markdown",
   "id": "bc2f945d",
   "metadata": {},
   "source": [
    "### bold & italic\n",
    "***hai***"
   ]
  },
  {
   "cell_type": "markdown",
   "id": "bd178d72",
   "metadata": {},
   "source": [
    "**hai**"
   ]
  },
  {
   "cell_type": "markdown",
   "id": "d8d0c047",
   "metadata": {},
   "source": [
    "### multilines \n",
    "i am Yaswanth  \n",
    "hai welcome  \n",
    "python programming  "
   ]
  },
  {
   "cell_type": "markdown",
   "id": "1c684c5c",
   "metadata": {},
   "source": [
    "### paragraph\n",
    "hai i am yaswanth  \n",
    "heloooo  \n"
   ]
  },
  {
   "cell_type": "markdown",
   "id": "d72ae5f3",
   "metadata": {},
   "source": [
    "### unordered & sub list \n",
    "+ one  \n",
    "- two  \n",
    "+ three  \n",
    "* four  \n",
    "    + five  \n",
    "    - six  \n",
    "    * seven \n",
    "        + eight  \n",
    "        - nine  \n",
    "        * ten\n"
   ]
  },
  {
   "cell_type": "markdown",
   "id": "f38c5766",
   "metadata": {},
   "source": [
    "### ordered list & sub list\n",
    "1. hi  \n",
    "2. hai  \n",
    "3. welcome  \n",
    "    4. to  \n",
    "    5. lab  \n",
    "        6. hai  \n",
    "        7. wel  \n",
    "            8. haiiii  \n",
    "            9. welcome  \n",
    "                10. hi  \n",
    "                11. welc  \n",
    "                "
   ]
  },
  {
   "cell_type": "markdown",
   "id": "2a85fe5b",
   "metadata": {},
   "source": [
    "### Comments\n",
    "- user readable information or data.\n",
    "- comment doesn't execute.\n",
    "- it is mentioned in '#'.\n",
    "- for multiple line comment mention in format of \" \"."
   ]
  },
  {
   "cell_type": "markdown",
   "id": "2cb1e452",
   "metadata": {},
   "source": [
    "### Variable\n",
    "- which is used to storing the data.\n",
    "- variable starts with characters & underscore.\n",
    "- coluld not start with numbers,special characters,keywords."
   ]
  },
  {
   "cell_type": "code",
   "execution_count": null,
   "id": "0d31416c",
   "metadata": {},
   "outputs": [],
   "source": []
  },
  {
   "cell_type": "markdown",
   "id": "efcc6170",
   "metadata": {},
   "source": [
    "### Datatypes\n",
    "- int(all integer values)\n",
    "- float(integer with decimal point)\n",
    "- string(combination of characters or group of characters)\n",
    "- complex(number with real and imaginary part)\n",
    "- boolean(True,False)\n"
   ]
  },
  {
   "cell_type": "code",
   "execution_count": 19,
   "id": "104b46f5",
   "metadata": {},
   "outputs": [
    {
     "name": "stdout",
     "output_type": "stream",
     "text": [
      "<class 'int'>\n",
      "<class 'float'>\n",
      "<class 'str'>\n",
      "<class 'str'>\n",
      "<class 'complex'>\n",
      "<class 'str'>\n",
      "<class 'bool'>\n"
     ]
    }
   ],
   "source": [
    "a=10\n",
    "b=2.45\n",
    "c=\"hai\"\n",
    "d='welcome'\n",
    "e=1+2j\n",
    "f='1+2j'\n",
    "g=True\n",
    "print(type(a))\n",
    "print(type(b))\n",
    "print(type(c))\n",
    "print(type(d))\n",
    "print(type(e))\n",
    "print(type(f))\n",
    "print(type(g))\n",
    "\n",
    "\n",
    "\n",
    "\n"
   ]
  },
  {
   "cell_type": "markdown",
   "id": "363e1be4",
   "metadata": {},
   "source": [
    "### Typecasting\n",
    "- which converts the data from one datatype to another datatype. \n"
   ]
  },
  {
   "cell_type": "code",
   "execution_count": 20,
   "id": "95918773",
   "metadata": {},
   "outputs": [
    {
     "name": "stdout",
     "output_type": "stream",
     "text": [
      "<class 'int'>\n",
      "158\n",
      "<class 'str'>\n",
      "158\n",
      "<class 'complex'>\n",
      "(158+0j)\n"
     ]
    }
   ],
   "source": [
    "a=158\n",
    "print(type(a))\n",
    "print(a)\n",
    "b=str(a)\n",
    "print(type(b))\n",
    "print(b)\n",
    "c=complex(a)\n",
    "print(type(c))\n",
    "print(c)\n"
   ]
  },
  {
   "cell_type": "code",
   "execution_count": 21,
   "id": "a85adfaf",
   "metadata": {},
   "outputs": [
    {
     "data": {
      "text/plain": [
       "158"
      ]
     },
     "execution_count": 21,
     "metadata": {},
     "output_type": "execute_result"
    }
   ],
   "source": [
    "b=a\n",
    "b"
   ]
  },
  {
   "cell_type": "code",
   "execution_count": 24,
   "id": "02ff9a45",
   "metadata": {},
   "outputs": [
    {
     "name": "stdout",
     "output_type": "stream",
     "text": [
      "<class 'str'>\n",
      "<class 'int'>\n"
     ]
    }
   ],
   "source": [
    "a=\"29236787182\"\n",
    "b=int(a)\n",
    "print(type(a))\n",
    "print(type(b))"
   ]
  },
  {
   "cell_type": "code",
   "execution_count": 25,
   "id": "38cb67e3",
   "metadata": {},
   "outputs": [
    {
     "name": "stdout",
     "output_type": "stream",
     "text": [
      "<class 'complex'>\n",
      "(29236787182+0j)\n"
     ]
    }
   ],
   "source": [
    "c=complex(a)\n",
    "print(type(c))\n",
    "print(c)"
   ]
  },
  {
   "cell_type": "code",
   "execution_count": null,
   "id": "229100af",
   "metadata": {},
   "outputs": [],
   "source": []
  }
 ],
 "metadata": {
  "kernelspec": {
   "display_name": "Python 3 (ipykernel)",
   "language": "python",
   "name": "python3"
  },
  "language_info": {
   "codemirror_mode": {
    "name": "ipython",
    "version": 3
   },
   "file_extension": ".py",
   "mimetype": "text/x-python",
   "name": "python",
   "nbconvert_exporter": "python",
   "pygments_lexer": "ipython3",
   "version": "3.9.7"
  }
 },
 "nbformat": 4,
 "nbformat_minor": 5
}
